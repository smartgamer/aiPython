{
 "cells": [
  {
   "cell_type": "code",
   "execution_count": null,
   "metadata": {},
   "outputs": [],
   "source": [
    "import numpy as np\n",
    "import matplotlib.pyplot as plt\n",
    "from sklearn import metrics\n",
    "from sklearn.cluster import KMeans"
   ]
  },
  {
   "cell_type": "code",
   "execution_count": null,
   "metadata": {},
   "outputs": [],
   "source": [
    "# Load data from input file\n",
    "X = np.loadtxt('data_quality.txt', delimiter=',')"
   ]
  },
  {
   "cell_type": "code",
   "execution_count": null,
   "metadata": {},
   "outputs": [],
   "source": [
    "# Plot input data\n",
    "plt.figure()\n",
    "plt.scatter(X[:,0], X[:,1], color='black', s=80, marker='o', facecolors='none')\n",
    "x_min, x_max = X[:, 0].min() - 1, X[:, 0].max() + 1\n",
    "y_min, y_max = X[:, 1].min() - 1, X[:, 1].max() + 1\n",
    "plt.title('Input data')\n",
    "plt.xlim(x_min, x_max)\n",
    "plt.ylim(y_min, y_max)\n",
    "plt.xticks(())\n",
    "plt.yticks(())"
   ]
  },
  {
   "cell_type": "code",
   "execution_count": null,
   "metadata": {},
   "outputs": [],
   "source": [
    "# Initialize variables\n",
    "scores = []\n",
    "values = np.arange(2, 10)"
   ]
  },
  {
   "cell_type": "code",
   "execution_count": null,
   "metadata": {},
   "outputs": [],
   "source": [
    "# Iterate through the defined range\n",
    "for num_clusters in values:\n",
    "    # Train the KMeans clustering model\n",
    "    kmeans = KMeans(init='k-means++', n_clusters=num_clusters, n_init=10)\n",
    "    kmeans.fit(X)\n",
    "    score = metrics.silhouette_score(X, kmeans.labels_, \n",
    "                metric='euclidean', sample_size=len(X))\n",
    "\n",
    "    print(\"\\nNumber of clusters =\", num_clusters)\n",
    "    print(\"Silhouette score =\", score)\n",
    "                    \n",
    "    scores.append(score)"
   ]
  },
  {
   "cell_type": "code",
   "execution_count": null,
   "metadata": {},
   "outputs": [],
   "source": [
    "# Plot silhouette scores\n",
    "plt.figure()\n",
    "plt.bar(values, scores, width=0.7, color='black', align='center')\n",
    "plt.title('Silhouette score vs number of clusters')"
   ]
  },
  {
   "cell_type": "code",
   "execution_count": null,
   "metadata": {},
   "outputs": [],
   "source": [
    "# Extract best score and optimal number of clusters\n",
    "num_clusters = np.argmax(scores) + values[0]\n",
    "print('\\nOptimal number of clusters =', num_clusters)"
   ]
  },
  {
   "cell_type": "code",
   "execution_count": null,
   "metadata": {},
   "outputs": [],
   "source": [
    "plt.show()"
   ]
  }
 ],
 "metadata": {
  "jupytext": {
   "main_language": "python",
   "text_representation": {
    "extension": ".py",
    "format_name": "light"
   }
  }
 },
 "nbformat": 4,
 "nbformat_minor": 2
}
