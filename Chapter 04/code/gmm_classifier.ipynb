{
 "cells": [
  {
   "cell_type": "code",
   "execution_count": null,
   "metadata": {},
   "outputs": [],
   "source": [
    "import numpy as np\n",
    "import matplotlib.pyplot as plt\n",
    "from matplotlib import patches"
   ]
  },
  {
   "cell_type": "code",
   "execution_count": null,
   "metadata": {},
   "outputs": [],
   "source": [
    "from sklearn import datasets\n",
    "from sklearn.mixture import GMM\n",
    "from sklearn.cross_validation import StratifiedKFold"
   ]
  },
  {
   "cell_type": "code",
   "execution_count": null,
   "metadata": {},
   "outputs": [],
   "source": [
    "# Load the iris dataset\n",
    "iris = datasets.load_iris()"
   ]
  },
  {
   "cell_type": "code",
   "execution_count": null,
   "metadata": {},
   "outputs": [],
   "source": [
    "# Split dataset into training and testing (80/20 split)\n",
    "indices = StratifiedKFold(iris.target, n_folds=5)"
   ]
  },
  {
   "cell_type": "code",
   "execution_count": null,
   "metadata": {},
   "outputs": [],
   "source": [
    "# Take the first fold\n",
    "train_index, test_index = next(iter(indices))"
   ]
  },
  {
   "cell_type": "code",
   "execution_count": null,
   "metadata": {},
   "outputs": [],
   "source": [
    "# Extract training data and labels\n",
    "X_train = iris.data[train_index]\n",
    "y_train = iris.target[train_index]"
   ]
  },
  {
   "cell_type": "code",
   "execution_count": null,
   "metadata": {},
   "outputs": [],
   "source": [
    "# Extract testing data and labels\n",
    "X_test = iris.data[test_index]\n",
    "y_test = iris.target[test_index]"
   ]
  },
  {
   "cell_type": "code",
   "execution_count": null,
   "metadata": {},
   "outputs": [],
   "source": [
    "# Extract the number of classes\n",
    "num_classes = len(np.unique(y_train))"
   ]
  },
  {
   "cell_type": "code",
   "execution_count": null,
   "metadata": {},
   "outputs": [],
   "source": [
    "# Build GMM\n",
    "classifier = GMM(n_components=num_classes, covariance_type='full', \n",
    "        init_params='wc', n_iter=20)"
   ]
  },
  {
   "cell_type": "code",
   "execution_count": null,
   "metadata": {},
   "outputs": [],
   "source": [
    "# Initialize the GMM means \n",
    "classifier.means_ = np.array([X_train[y_train == i].mean(axis=0)\n",
    "                              for i in range(num_classes)])"
   ]
  },
  {
   "cell_type": "code",
   "execution_count": null,
   "metadata": {},
   "outputs": [],
   "source": [
    "# Train the GMM classifier \n",
    "classifier.fit(X_train)"
   ]
  },
  {
   "cell_type": "code",
   "execution_count": null,
   "metadata": {},
   "outputs": [],
   "source": [
    "# Draw boundaries\n",
    "plt.figure()\n",
    "colors = 'bgr'\n",
    "for i, color in enumerate(colors):\n",
    "    # Extract eigenvalues and eigenvectors\n",
    "    eigenvalues, eigenvectors = np.linalg.eigh(\n",
    "            classifier._get_covars()[i][:2, :2])\n",
    "\n",
    "    # Normalize the first eigenvector\n",
    "    norm_vec = eigenvectors[0] / np.linalg.norm(eigenvectors[0])\n",
    "\n",
    "    # Extract the angle of tilt\n",
    "    angle = np.arctan2(norm_vec[1], norm_vec[0])\n",
    "    angle = 180 * angle / np.pi \n",
    "\n",
    "    # Scaling factor to magnify the ellipses\n",
    "    # (random value chosen to suit our needs)\n",
    "    scaling_factor = 8\n",
    "    eigenvalues *= scaling_factor \n",
    "\n",
    "    # Draw the ellipse\n",
    "    ellipse = patches.Ellipse(classifier.means_[i, :2], \n",
    "            eigenvalues[0], eigenvalues[1], 180 + angle, \n",
    "            color=color)\n",
    "    axis_handle = plt.subplot(1, 1, 1)\n",
    "    ellipse.set_clip_box(axis_handle.bbox)\n",
    "    ellipse.set_alpha(0.6)\n",
    "    axis_handle.add_artist(ellipse)"
   ]
  },
  {
   "cell_type": "code",
   "execution_count": null,
   "metadata": {},
   "outputs": [],
   "source": [
    "# Plot the data \n",
    "colors = 'bgr'\n",
    "for i, color in enumerate(colors):\n",
    "    cur_data = iris.data[iris.target == i]\n",
    "    plt.scatter(cur_data[:,0], cur_data[:,1], marker='o', \n",
    "            facecolors='none', edgecolors='black', s=40, \n",
    "            label=iris.target_names[i])\n",
    "\n",
    "    test_data = X_test[y_test == i]\n",
    "    plt.scatter(test_data[:,0], test_data[:,1], marker='s', \n",
    "            facecolors='black', edgecolors='black', s=40, \n",
    "            label=iris.target_names[i])"
   ]
  },
  {
   "cell_type": "code",
   "execution_count": null,
   "metadata": {},
   "outputs": [],
   "source": [
    "# Compute predictions for training and testing data\n",
    "y_train_pred = classifier.predict(X_train)\n",
    "accuracy_training = np.mean(y_train_pred.ravel() == y_train.ravel()) * 100\n",
    "print('Accuracy on training data =', accuracy_training)"
   ]
  },
  {
   "cell_type": "code",
   "execution_count": null,
   "metadata": {},
   "outputs": [],
   "source": [
    "y_test_pred = classifier.predict(X_test)\n",
    "accuracy_testing = np.mean(y_test_pred.ravel() == y_test.ravel()) * 100\n",
    "print('Accuracy on testing data =', accuracy_testing)"
   ]
  },
  {
   "cell_type": "code",
   "execution_count": null,
   "metadata": {},
   "outputs": [],
   "source": [
    "plt.title('GMM classifier')\n",
    "plt.xticks(())\n",
    "plt.yticks(())"
   ]
  },
  {
   "cell_type": "code",
   "execution_count": null,
   "metadata": {},
   "outputs": [],
   "source": [
    "plt.show()"
   ]
  }
 ],
 "metadata": {
  "jupytext": {
   "main_language": "python",
   "text_representation": {
    "extension": ".py",
    "format_name": "light"
   }
  }
 },
 "nbformat": 4,
 "nbformat_minor": 2
}
