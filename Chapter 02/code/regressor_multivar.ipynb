{
 "cells": [
  {
   "cell_type": "code",
   "execution_count": null,
   "metadata": {},
   "outputs": [],
   "source": [
    "import numpy as np\n",
    "from sklearn import linear_model\n",
    "import sklearn.metrics as sm\n",
    "from sklearn.preprocessing import PolynomialFeatures"
   ]
  },
  {
   "cell_type": "code",
   "execution_count": null,
   "metadata": {},
   "outputs": [],
   "source": [
    "# Input file containing data\n",
    "input_file = 'data_multivar_regr.txt'"
   ]
  },
  {
   "cell_type": "code",
   "execution_count": null,
   "metadata": {},
   "outputs": [],
   "source": [
    "# Load the data from the input file\n",
    "data = np.loadtxt(input_file, delimiter=',')\n",
    "X, y = data[:, :-1], data[:, -1]"
   ]
  },
  {
   "cell_type": "code",
   "execution_count": null,
   "metadata": {},
   "outputs": [],
   "source": [
    "# Split data into training and testing \n",
    "num_training = int(0.8 * len(X))\n",
    "num_test = len(X) - num_training"
   ]
  },
  {
   "cell_type": "code",
   "execution_count": null,
   "metadata": {},
   "outputs": [],
   "source": [
    "# Training data\n",
    "X_train, y_train = X[:num_training], y[:num_training]"
   ]
  },
  {
   "cell_type": "code",
   "execution_count": null,
   "metadata": {},
   "outputs": [],
   "source": [
    "# Test data\n",
    "X_test, y_test = X[num_training:], y[num_training:]"
   ]
  },
  {
   "cell_type": "code",
   "execution_count": null,
   "metadata": {},
   "outputs": [],
   "source": [
    "# Create the linear regressor model\n",
    "linear_regressor = linear_model.LinearRegression()"
   ]
  },
  {
   "cell_type": "code",
   "execution_count": null,
   "metadata": {},
   "outputs": [],
   "source": [
    "# Train the model using the training sets\n",
    "linear_regressor.fit(X_train, y_train)"
   ]
  },
  {
   "cell_type": "code",
   "execution_count": null,
   "metadata": {},
   "outputs": [],
   "source": [
    "# Predict the output\n",
    "y_test_pred = linear_regressor.predict(X_test)"
   ]
  },
  {
   "cell_type": "code",
   "execution_count": null,
   "metadata": {},
   "outputs": [],
   "source": [
    "# Measure performance\n",
    "print(\"Linear Regressor performance:\")\n",
    "print(\"Mean absolute error =\", round(sm.mean_absolute_error(y_test, y_test_pred), 2))\n",
    "print(\"Mean squared error =\", round(sm.mean_squared_error(y_test, y_test_pred), 2))\n",
    "print(\"Median absolute error =\", round(sm.median_absolute_error(y_test, y_test_pred), 2))\n",
    "print(\"Explained variance score =\", round(sm.explained_variance_score(y_test, y_test_pred), 2))\n",
    "print(\"R2 score =\", round(sm.r2_score(y_test, y_test_pred), 2))"
   ]
  },
  {
   "cell_type": "code",
   "execution_count": null,
   "metadata": {},
   "outputs": [],
   "source": [
    "# Polynomial regression\n",
    "polynomial = PolynomialFeatures(degree=10)\n",
    "X_train_transformed = polynomial.fit_transform(X_train)\n",
    "datapoint = [[7.75, 6.35, 5.56]]\n",
    "poly_datapoint = polynomial.fit_transform(datapoint)"
   ]
  },
  {
   "cell_type": "code",
   "execution_count": null,
   "metadata": {
    "lines_to_next_cell": 2
   },
   "outputs": [],
   "source": [
    "poly_linear_model = linear_model.LinearRegression()\n",
    "poly_linear_model.fit(X_train_transformed, y_train)\n",
    "print(\"\\nLinear regression:\\n\", linear_regressor.predict(datapoint))\n",
    "print(\"\\nPolynomial regression:\\n\", poly_linear_model.predict(poly_datapoint))"
   ]
  }
 ],
 "metadata": {
  "jupytext": {
   "main_language": "python",
   "text_representation": {
    "extension": ".py",
    "format_name": "light"
   }
  }
 },
 "nbformat": 4,
 "nbformat_minor": 2
}
