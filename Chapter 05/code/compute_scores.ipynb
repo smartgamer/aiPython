{
 "cells": [
  {
   "cell_type": "code",
   "execution_count": null,
   "metadata": {},
   "outputs": [],
   "source": [
    "import argparse\n",
    "import json\n",
    "import numpy as np"
   ]
  },
  {
   "cell_type": "code",
   "execution_count": null,
   "metadata": {},
   "outputs": [],
   "source": [
    "def build_arg_parser():\n",
    "    parser = argparse.ArgumentParser(description='Compute similarity score')\n",
    "    parser.add_argument('--user1', dest='user1', required=True,\n",
    "            help='First user')\n",
    "    parser.add_argument('--user2', dest='user2', required=True,\n",
    "            help='Second user')\n",
    "    parser.add_argument(\"--score-type\", dest=\"score_type\", required=True, \n",
    "            choices=['Euclidean', 'Pearson'], help='Similarity metric to be used')\n",
    "    return parser"
   ]
  },
  {
   "cell_type": "code",
   "execution_count": null,
   "metadata": {},
   "outputs": [],
   "source": [
    "# Compute the Euclidean distance score between user1 and user2 \n",
    "def euclidean_score(dataset, user1, user2):\n",
    "    if user1 not in dataset:\n",
    "        raise TypeError('Cannot find ' + user1 + ' in the dataset')\n",
    "\n",
    "    if user2 not in dataset:\n",
    "        raise TypeError('Cannot find ' + user2 + ' in the dataset')\n",
    "\n",
    "    # Movies rated by both user1 and user2\n",
    "    common_movies = {} \n",
    "\n",
    "    for item in dataset[user1]:\n",
    "        if item in dataset[user2]:\n",
    "            common_movies[item] = 1\n",
    "\n",
    "    # If there are no common movies between the users, \n",
    "    # then the score is 0 \n",
    "    if len(common_movies) == 0:\n",
    "        return 0\n",
    "\n",
    "    squared_diff = [] \n",
    "\n",
    "    for item in dataset[user1]:\n",
    "        if item in dataset[user2]:\n",
    "            squared_diff.append(np.square(dataset[user1][item] - dataset[user2][item]))\n",
    "        \n",
    "    return 1 / (1 + np.sqrt(np.sum(squared_diff))) "
   ]
  },
  {
   "cell_type": "code",
   "execution_count": null,
   "metadata": {},
   "outputs": [],
   "source": [
    "# Compute the Pearson correlation score between user1 and user2 \n",
    "def pearson_score(dataset, user1, user2):\n",
    "    if user1 not in dataset:\n",
    "        raise TypeError('Cannot find ' + user1 + ' in the dataset')\n",
    "\n",
    "    if user2 not in dataset:\n",
    "        raise TypeError('Cannot find ' + user2 + ' in the dataset')\n",
    "\n",
    "    # Movies rated by both user1 and user2\n",
    "    common_movies = {}\n",
    "\n",
    "    for item in dataset[user1]:\n",
    "        if item in dataset[user2]:\n",
    "            common_movies[item] = 1\n",
    "\n",
    "    num_ratings = len(common_movies) \n",
    "\n",
    "    # If there are no common movies between user1 and user2, then the score is 0 \n",
    "    if num_ratings == 0:\n",
    "        return 0\n",
    "\n",
    "    # Calculate the sum of ratings of all the common movies \n",
    "    user1_sum = np.sum([dataset[user1][item] for item in common_movies])\n",
    "    user2_sum = np.sum([dataset[user2][item] for item in common_movies])\n",
    "\n",
    "    # Calculate the sum of squares of ratings of all the common movies \n",
    "    user1_squared_sum = np.sum([np.square(dataset[user1][item]) for item in common_movies])\n",
    "    user2_squared_sum = np.sum([np.square(dataset[user2][item]) for item in common_movies])\n",
    "\n",
    "    # Calculate the sum of products of the ratings of the common movies\n",
    "    sum_of_products = np.sum([dataset[user1][item] * dataset[user2][item] for item in common_movies])\n",
    "\n",
    "    # Calculate the Pearson correlation score\n",
    "    Sxy = sum_of_products - (user1_sum * user2_sum / num_ratings)\n",
    "    Sxx = user1_squared_sum - np.square(user1_sum) / num_ratings\n",
    "    Syy = user2_squared_sum - np.square(user2_sum) / num_ratings\n",
    "    \n",
    "    if Sxx * Syy == 0:\n",
    "        return 0\n",
    "\n",
    "    return Sxy / np.sqrt(Sxx * Syy)"
   ]
  },
  {
   "cell_type": "code",
   "execution_count": null,
   "metadata": {
    "lines_to_next_cell": 2
   },
   "outputs": [],
   "source": [
    "if __name__=='__main__':\n",
    "    args = build_arg_parser().parse_args()\n",
    "    user1 = args.user1\n",
    "    user2 = args.user2\n",
    "    score_type = args.score_type\n",
    "\n",
    "    ratings_file = 'ratings.json'\n",
    "\n",
    "    with open(ratings_file, 'r') as f:\n",
    "        data = json.loads(f.read())\n",
    "\n",
    "    if score_type == 'Euclidean':\n",
    "        print(\"\\nEuclidean score:\")\n",
    "        print(euclidean_score(data, user1, user2))\n",
    "    else: \n",
    "        print(\"\\nPearson score:\")\n",
    "        print(pearson_score(data, user1, user2))"
   ]
  }
 ],
 "metadata": {
  "jupytext": {
   "main_language": "python",
   "text_representation": {
    "extension": ".py",
    "format_name": "light"
   }
  }
 },
 "nbformat": 4,
 "nbformat_minor": 2
}
