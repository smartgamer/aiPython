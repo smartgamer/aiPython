{
 "cells": [
  {
   "cell_type": "code",
   "execution_count": null,
   "metadata": {},
   "outputs": [],
   "source": [
    "import argparse\n",
    "import json\n",
    "import numpy as np"
   ]
  },
  {
   "cell_type": "code",
   "execution_count": null,
   "metadata": {},
   "outputs": [],
   "source": [
    "from compute_scores import pearson_score\n",
    "from collaborative_filtering import find_similar_users"
   ]
  },
  {
   "cell_type": "code",
   "execution_count": null,
   "metadata": {},
   "outputs": [],
   "source": [
    "def build_arg_parser():\n",
    "    parser = argparse.ArgumentParser(description='Find the movie recommendations for the given user')\n",
    "    parser.add_argument('--user', dest='user', required=True,\n",
    "            help='Input user')\n",
    "    return parser"
   ]
  },
  {
   "cell_type": "code",
   "execution_count": null,
   "metadata": {},
   "outputs": [],
   "source": [
    "# Get movie recommendations for the input user\n",
    "def get_recommendations(dataset, input_user):\n",
    "    if input_user not in dataset:\n",
    "        raise TypeError('Cannot find ' + input_user + ' in the dataset')\n",
    "\n",
    "    overall_scores = {}\n",
    "    similarity_scores = {}\n",
    "\n",
    "    for user in [x for x in dataset if x != input_user]:\n",
    "        similarity_score = pearson_score(dataset, input_user, user)\n",
    "\n",
    "        if similarity_score <= 0:\n",
    "            continue\n",
    "        \n",
    "        filtered_list = [x for x in dataset[user] if x not in \\\n",
    "                dataset[input_user] or dataset[input_user][x] == 0]\n",
    "\n",
    "        for item in filtered_list: \n",
    "            overall_scores.update({item: dataset[user][item] * similarity_score})\n",
    "            similarity_scores.update({item: similarity_score})\n",
    "\n",
    "    if len(overall_scores) == 0:\n",
    "        return ['No recommendations possible']\n",
    "\n",
    "    # Generate movie ranks by normalization \n",
    "    movie_scores = np.array([[score/similarity_scores[item], item] \n",
    "            for item, score in overall_scores.items()])\n",
    "\n",
    "    # Sort in decreasing order \n",
    "    movie_scores = movie_scores[np.argsort(movie_scores[:, 0])[::-1]]\n",
    "\n",
    "    # Extract the movie recommendations\n",
    "    movie_recommendations = [movie for _, movie in movie_scores]\n",
    "\n",
    "    return movie_recommendations"
   ]
  },
  {
   "cell_type": "code",
   "execution_count": null,
   "metadata": {
    "lines_to_next_cell": 2
   },
   "outputs": [],
   "source": [
    "if __name__=='__main__':\n",
    "    args = build_arg_parser().parse_args()\n",
    "    user = args.user\n",
    "\n",
    "    ratings_file = 'ratings.json'\n",
    "\n",
    "    with open(ratings_file, 'r') as f:\n",
    "        data = json.loads(f.read())\n",
    "\n",
    "    print(\"\\nMovie recommendations for \" + user + \":\")\n",
    "    movies = get_recommendations(data, user) \n",
    "    for i, movie in enumerate(movies):\n",
    "        print(str(i+1) + '. ' + movie)"
   ]
  }
 ],
 "metadata": {
  "jupytext": {
   "main_language": "python",
   "text_representation": {
    "extension": ".py",
    "format_name": "light"
   }
  }
 },
 "nbformat": 4,
 "nbformat_minor": 2
}
