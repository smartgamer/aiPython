{
 "cells": [
  {
   "cell_type": "code",
   "execution_count": null,
   "metadata": {},
   "outputs": [],
   "source": [
    "import numpy as np\n",
    "import matplotlib.pyplot as plt\n",
    "import matplotlib.cm as cm\n",
    "from sklearn import neighbors, datasets"
   ]
  },
  {
   "cell_type": "code",
   "execution_count": null,
   "metadata": {},
   "outputs": [],
   "source": [
    "# Load input data\n",
    "input_file = 'data.txt'\n",
    "data = np.loadtxt(input_file, delimiter=',')\n",
    "X, y = data[:, :-1], data[:, -1].astype(np.int)"
   ]
  },
  {
   "cell_type": "code",
   "execution_count": null,
   "metadata": {},
   "outputs": [],
   "source": [
    "# Plot input data\n",
    "plt.figure()\n",
    "plt.title('Input data')\n",
    "marker_shapes = 'v^os'\n",
    "mapper = [marker_shapes[i] for i in y]\n",
    "for i in range(X.shape[0]):\n",
    "    plt.scatter(X[i, 0], X[i, 1], marker=mapper[i], \n",
    "            s=75, edgecolors='black', facecolors='none')"
   ]
  },
  {
   "cell_type": "code",
   "execution_count": null,
   "metadata": {},
   "outputs": [],
   "source": [
    "# Number of nearest neighbors \n",
    "num_neighbors = 12"
   ]
  },
  {
   "cell_type": "code",
   "execution_count": null,
   "metadata": {},
   "outputs": [],
   "source": [
    "# Step size of the visualization grid\n",
    "step_size = 0.01  "
   ]
  },
  {
   "cell_type": "code",
   "execution_count": null,
   "metadata": {},
   "outputs": [],
   "source": [
    "# Create a K Nearest Neighbours classifier model \n",
    "classifier = neighbors.KNeighborsClassifier(num_neighbors, weights='distance')"
   ]
  },
  {
   "cell_type": "code",
   "execution_count": null,
   "metadata": {},
   "outputs": [],
   "source": [
    "# Train the K Nearest Neighbours model\n",
    "classifier.fit(X, y)"
   ]
  },
  {
   "cell_type": "code",
   "execution_count": null,
   "metadata": {},
   "outputs": [],
   "source": [
    "# Create the mesh to plot the boundaries\n",
    "x_min, x_max = X[:, 0].min() - 1, X[:, 0].max() + 1\n",
    "y_min, y_max = X[:, 1].min() - 1, X[:, 1].max() + 1\n",
    "x_values, y_values = np.meshgrid(np.arange(x_min, x_max, step_size), \n",
    "        np.arange(y_min, y_max, step_size))"
   ]
  },
  {
   "cell_type": "code",
   "execution_count": null,
   "metadata": {},
   "outputs": [],
   "source": [
    "# Evaluate the classifier on all the points on the grid \n",
    "output = classifier.predict(np.c_[x_values.ravel(), y_values.ravel()])"
   ]
  },
  {
   "cell_type": "code",
   "execution_count": null,
   "metadata": {},
   "outputs": [],
   "source": [
    "# Visualize the predicted output \n",
    "output = output.reshape(x_values.shape)\n",
    "plt.figure()\n",
    "plt.pcolormesh(x_values, y_values, output, cmap=cm.Paired)"
   ]
  },
  {
   "cell_type": "code",
   "execution_count": null,
   "metadata": {},
   "outputs": [],
   "source": [
    "# Overlay the training points on the map\n",
    "for i in range(X.shape[0]):\n",
    "    plt.scatter(X[i, 0], X[i, 1], marker=mapper[i], \n",
    "            s=50, edgecolors='black', facecolors='none')"
   ]
  },
  {
   "cell_type": "code",
   "execution_count": null,
   "metadata": {},
   "outputs": [],
   "source": [
    "plt.xlim(x_values.min(), x_values.max())\n",
    "plt.ylim(y_values.min(), y_values.max())\n",
    "plt.title('K Nearest Neighbors classifier model boundaries')"
   ]
  },
  {
   "cell_type": "code",
   "execution_count": null,
   "metadata": {},
   "outputs": [],
   "source": [
    "# Test input datapoint\n",
    "test_datapoint = [7.1, 3.6]\n",
    "plt.figure()\n",
    "plt.title('Test datapoint')\n",
    "for i in range(X.shape[0]):\n",
    "    plt.scatter(X[i, 0], X[i, 1], marker=mapper[i], \n",
    "            s=75, edgecolors='black', facecolors='none')"
   ]
  },
  {
   "cell_type": "code",
   "execution_count": null,
   "metadata": {},
   "outputs": [],
   "source": [
    "plt.scatter(test_datapoint[0], test_datapoint[1], marker='x', \n",
    "        linewidth=6, s=200, facecolors='black')"
   ]
  },
  {
   "cell_type": "code",
   "execution_count": null,
   "metadata": {},
   "outputs": [],
   "source": [
    "# Extract the K nearest neighbors\n",
    "_, indices = classifier.kneighbors([test_datapoint])\n",
    "indices = indices.astype(np.int)[0]"
   ]
  },
  {
   "cell_type": "code",
   "execution_count": null,
   "metadata": {},
   "outputs": [],
   "source": [
    "# Plot k nearest neighbors\n",
    "plt.figure()\n",
    "plt.title('K Nearest Neighbors')"
   ]
  },
  {
   "cell_type": "code",
   "execution_count": null,
   "metadata": {},
   "outputs": [],
   "source": [
    "for i in indices:\n",
    "    plt.scatter(X[i, 0], X[i, 1], marker=mapper[y[i]], \n",
    "            linewidth=3, s=100, facecolors='black')"
   ]
  },
  {
   "cell_type": "code",
   "execution_count": null,
   "metadata": {},
   "outputs": [],
   "source": [
    "plt.scatter(test_datapoint[0], test_datapoint[1], marker='x', \n",
    "        linewidth=6, s=200, facecolors='black')"
   ]
  },
  {
   "cell_type": "code",
   "execution_count": null,
   "metadata": {},
   "outputs": [],
   "source": [
    "for i in range(X.shape[0]):\n",
    "    plt.scatter(X[i, 0], X[i, 1], marker=mapper[i], \n",
    "            s=75, edgecolors='black', facecolors='none')"
   ]
  },
  {
   "cell_type": "code",
   "execution_count": null,
   "metadata": {},
   "outputs": [],
   "source": [
    "print(\"Predicted output:\", classifier.predict([test_datapoint])[0])"
   ]
  },
  {
   "cell_type": "code",
   "execution_count": null,
   "metadata": {
    "lines_to_next_cell": 2
   },
   "outputs": [],
   "source": [
    "plt.show()"
   ]
  }
 ],
 "metadata": {
  "jupytext": {
   "main_language": "python",
   "text_representation": {
    "extension": ".py",
    "format_name": "light"
   }
  }
 },
 "nbformat": 4,
 "nbformat_minor": 2
}
