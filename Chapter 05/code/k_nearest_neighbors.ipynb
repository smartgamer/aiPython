{
 "cells": [
  {
   "cell_type": "code",
   "execution_count": null,
   "metadata": {},
   "outputs": [],
   "source": [
    "import numpy as np\n",
    "import matplotlib.pyplot as plt\n",
    "from sklearn.neighbors import NearestNeighbors"
   ]
  },
  {
   "cell_type": "code",
   "execution_count": null,
   "metadata": {},
   "outputs": [],
   "source": [
    "# Input data\n",
    "X = np.array([[2.1, 1.3], [1.3, 3.2], [2.9, 2.5], [2.7, 5.4], [3.8, 0.9], \n",
    "        [7.3, 2.1], [4.2, 6.5], [3.8, 3.7], [2.5, 4.1], [3.4, 1.9],\n",
    "        [5.7, 3.5], [6.1, 4.3], [5.1, 2.2], [6.2, 1.1]])"
   ]
  },
  {
   "cell_type": "code",
   "execution_count": null,
   "metadata": {},
   "outputs": [],
   "source": [
    "# Number of nearest neighbors\n",
    "k = 5"
   ]
  },
  {
   "cell_type": "code",
   "execution_count": null,
   "metadata": {},
   "outputs": [],
   "source": [
    "# Test datapoint \n",
    "test_datapoint = [4.3, 2.7]"
   ]
  },
  {
   "cell_type": "code",
   "execution_count": null,
   "metadata": {},
   "outputs": [],
   "source": [
    "# Plot input data \n",
    "plt.figure()\n",
    "plt.title('Input data')\n",
    "plt.scatter(X[:,0], X[:,1], marker='o', s=75, color='black')"
   ]
  },
  {
   "cell_type": "code",
   "execution_count": null,
   "metadata": {},
   "outputs": [],
   "source": [
    "# Build K Nearest Neighbors model\n",
    "knn_model = NearestNeighbors(n_neighbors=k, algorithm='ball_tree').fit(X)\n",
    "distances, indices = knn_model.kneighbors([test_datapoint])"
   ]
  },
  {
   "cell_type": "code",
   "execution_count": null,
   "metadata": {},
   "outputs": [],
   "source": [
    "# Print the 'k' nearest neighbors\n",
    "print(\"\\nK Nearest Neighbors:\")\n",
    "for rank, index in enumerate(indices[0][:k], start=1):\n",
    "    print(str(rank) + \" ==>\", X[index])"
   ]
  },
  {
   "cell_type": "code",
   "execution_count": null,
   "metadata": {},
   "outputs": [],
   "source": [
    "# Visualize the nearest neighbors along with the test datapoint \n",
    "plt.figure()\n",
    "plt.title('Nearest neighbors')\n",
    "plt.scatter(X[:, 0], X[:, 1], marker='o', s=75, color='k')\n",
    "plt.scatter(X[indices][0][:][:, 0], X[indices][0][:][:, 1], \n",
    "        marker='o', s=250, color='k', facecolors='none')\n",
    "plt.scatter(test_datapoint[0], test_datapoint[1],\n",
    "        marker='x', s=75, color='k')"
   ]
  },
  {
   "cell_type": "code",
   "execution_count": null,
   "metadata": {},
   "outputs": [],
   "source": [
    "plt.show()"
   ]
  }
 ],
 "metadata": {
  "jupytext": {
   "main_language": "python",
   "text_representation": {
    "extension": ".py",
    "format_name": "light"
   }
  }
 },
 "nbformat": 4,
 "nbformat_minor": 2
}
