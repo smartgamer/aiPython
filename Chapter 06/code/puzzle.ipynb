{
 "cells": [
  {
   "cell_type": "code",
   "execution_count": null,
   "metadata": {},
   "outputs": [],
   "source": [
    "from logpy import *\n",
    "from logpy.core import lall"
   ]
  },
  {
   "cell_type": "code",
   "execution_count": null,
   "metadata": {},
   "outputs": [],
   "source": [
    "# Declare the variable\n",
    "people = var()"
   ]
  },
  {
   "cell_type": "code",
   "execution_count": null,
   "metadata": {},
   "outputs": [],
   "source": [
    "# Define the rules\n",
    "rules = lall(\n",
    "    # There are 4 people\n",
    "    (eq, (var(), var(), var(), var()), people),\n",
    "\n",
    "    # Steve's car is blue\n",
    "    (membero, ('Steve', var(), 'blue', var()), people),\n",
    "\n",
    "    # Person who owns the cat lives in Canada \n",
    "    (membero, (var(), 'cat', var(), 'Canada'), people),\n",
    "\n",
    "    # Matthew lives in USA\n",
    "    (membero, ('Matthew', var(), var(), 'USA'), people),\n",
    "\n",
    "    # The person who has a black car lives in Australia\n",
    "    (membero, (var(), var(), 'black', 'Australia'), people),\n",
    "\n",
    "    # Jack has a cat\n",
    "    (membero, ('Jack', 'cat', var(), var()), people),\n",
    "\n",
    "    # Alfred lives in Australia\n",
    "    (membero, ('Alfred', var(), var(), 'Australia'), people),\n",
    "\n",
    "    # Person who owns the dog lives in France \n",
    "    (membero, (var(), 'dog', var(), 'France'), people),\n",
    "\n",
    "    # Who is the owner of the rabbit? \n",
    "    (membero, (var(), 'rabbit', var(), var()), people)\n",
    ")"
   ]
  },
  {
   "cell_type": "code",
   "execution_count": null,
   "metadata": {},
   "outputs": [],
   "source": [
    "# Run the solver\n",
    "solutions = run(0, people, rules)"
   ]
  },
  {
   "cell_type": "code",
   "execution_count": null,
   "metadata": {},
   "outputs": [],
   "source": [
    "# Extract the output\n",
    "output = [house for house in solutions[0] if 'rabbit' in house][0][0]"
   ]
  },
  {
   "cell_type": "code",
   "execution_count": null,
   "metadata": {
    "lines_to_next_cell": 2
   },
   "outputs": [],
   "source": [
    "# Print the output\n",
    "print('\\n' + output + ' is the owner of the rabbit')\n",
    "print('\\nHere are all the details:')\n",
    "attribs = ['Name', 'Pet', 'Color', 'Country']\n",
    "print('\\n' + '\\t\\t'.join(attribs))\n",
    "print('=' * 57)\n",
    "for item in solutions[0]:\n",
    "    print('')\n",
    "    print('\\t\\t'.join([str(x) for x in item]))"
   ]
  }
 ],
 "metadata": {
  "jupytext": {
   "main_language": "python",
   "text_representation": {
    "extension": ".py",
    "format_name": "light"
   }
  }
 },
 "nbformat": 4,
 "nbformat_minor": 2
}
