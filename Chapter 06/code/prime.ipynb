{
 "cells": [
  {
   "cell_type": "code",
   "execution_count": null,
   "metadata": {},
   "outputs": [],
   "source": [
    "import itertools as it\n",
    "import logpy.core as lc\n",
    "from sympy.ntheory.generate import prime, isprime"
   ]
  },
  {
   "cell_type": "code",
   "execution_count": null,
   "metadata": {},
   "outputs": [],
   "source": [
    "# Check if the elements of x are prime \n",
    "def check_prime(x):\n",
    "    if lc.isvar(x):\n",
    "        return lc.condeseq([(lc.eq, x, p)] for p in map(prime, it.count(1)))\n",
    "    else:\n",
    "        return lc.success if isprime(x) else lc.fail"
   ]
  },
  {
   "cell_type": "code",
   "execution_count": null,
   "metadata": {},
   "outputs": [],
   "source": [
    "# Declate the variable\n",
    "x = lc.var()"
   ]
  },
  {
   "cell_type": "code",
   "execution_count": null,
   "metadata": {},
   "outputs": [],
   "source": [
    "# Check if an element in the list is a prime number\n",
    "list_nums = (23, 4, 27, 17, 13, 10, 21, 29, 3, 32, 11, 19)\n",
    "print('\\nList of primes in the list:')\n",
    "print(set(lc.run(0, x, (lc.membero, x, list_nums), (check_prime, x))))"
   ]
  },
  {
   "cell_type": "code",
   "execution_count": null,
   "metadata": {},
   "outputs": [],
   "source": [
    "# Print first 7 prime numbers\n",
    "print('\\nList of first 7 prime numbers:')\n",
    "print(lc.run(7, x, check_prime(x)))"
   ]
  }
 ],
 "metadata": {
  "jupytext": {
   "main_language": "python",
   "text_representation": {
    "extension": ".py",
    "format_name": "light"
   }
  }
 },
 "nbformat": 4,
 "nbformat_minor": 2
}
