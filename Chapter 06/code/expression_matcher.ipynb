{
 "cells": [
  {
   "cell_type": "code",
   "execution_count": null,
   "metadata": {},
   "outputs": [],
   "source": [
    "from logpy import run, var, fact\n",
    "import logpy.assoccomm as la"
   ]
  },
  {
   "cell_type": "code",
   "execution_count": null,
   "metadata": {},
   "outputs": [],
   "source": [
    "# Define mathematical operations\n",
    "add = 'addition'\n",
    "mul = 'multiplication'"
   ]
  },
  {
   "cell_type": "code",
   "execution_count": null,
   "metadata": {},
   "outputs": [],
   "source": [
    "# Declare that these operations are commutative\n",
    "# using the facts system\n",
    "fact(la.commutative, mul)\n",
    "fact(la.commutative, add)\n",
    "fact(la.associative, mul)\n",
    "fact(la.associative, add)"
   ]
  },
  {
   "cell_type": "code",
   "execution_count": null,
   "metadata": {},
   "outputs": [],
   "source": [
    "# Define some variables\n",
    "a, b, c = var('a'), var('b'), var('c')"
   ]
  },
  {
   "cell_type": "code",
   "execution_count": null,
   "metadata": {},
   "outputs": [],
   "source": [
    "# Generate expressions\n",
    "expression_orig = (add, (mul, 3, -2), (mul, (add, 1, (mul, 2, 3)), -1))\n",
    "expression1 = (add, (mul, (add, 1, (mul, 2, a)), b), (mul, 3, c))\n",
    "expression2 = (add, (mul, c, 3), (mul, b, (add, (mul, 2, a), 1)))\n",
    "expression3 = (add, (add, (mul, (mul, 2, a), b), b), (mul, 3, c)) "
   ]
  },
  {
   "cell_type": "code",
   "execution_count": null,
   "metadata": {},
   "outputs": [],
   "source": [
    "# Compare expressions\n",
    "print(run(0, (a, b, c), la.eq_assoccomm(expression1, expression_orig)))\n",
    "print(run(0, (a, b, c), la.eq_assoccomm(expression2, expression_orig)))\n",
    "print(run(0, (a, b, c), la.eq_assoccomm(expression3, expression_orig)))"
   ]
  }
 ],
 "metadata": {
  "jupytext": {
   "main_language": "python",
   "text_representation": {
    "extension": ".py",
    "format_name": "light"
   }
  }
 },
 "nbformat": 4,
 "nbformat_minor": 2
}
