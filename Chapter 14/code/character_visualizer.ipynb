{
 "cells": [
  {
   "cell_type": "code",
   "execution_count": null,
   "metadata": {},
   "outputs": [],
   "source": [
    "import os\n",
    "import sys"
   ]
  },
  {
   "cell_type": "code",
   "execution_count": null,
   "metadata": {},
   "outputs": [],
   "source": [
    "import cv2\n",
    "import numpy as np"
   ]
  },
  {
   "cell_type": "code",
   "execution_count": null,
   "metadata": {},
   "outputs": [],
   "source": [
    "# Define the input file \n",
    "input_file = 'letter.data' "
   ]
  },
  {
   "cell_type": "code",
   "execution_count": null,
   "metadata": {},
   "outputs": [],
   "source": [
    "# Define the visualization parameters \n",
    "img_resize_factor = 12\n",
    "start = 6\n",
    "end = -1\n",
    "height, width = 16, 8"
   ]
  },
  {
   "cell_type": "code",
   "execution_count": null,
   "metadata": {},
   "outputs": [],
   "source": [
    "# Iterate until the user presses the Esc key\n",
    "with open(input_file, 'r') as f:\n",
    "    for line in f.readlines():\n",
    "        # Read the data\n",
    "        data = np.array([255 * float(x) for x in line.split('\\t')[start:end]])\n",
    "\n",
    "        # Reshape the data into a 2D image\n",
    "        img = np.reshape(data, (height, width))\n",
    "\n",
    "        # Scale the image\n",
    "        img_scaled = cv2.resize(img, None, fx=img_resize_factor, fy=img_resize_factor)\n",
    "\n",
    "        # Display the image\n",
    "        cv2.imshow('Image', img_scaled)\n",
    "\n",
    "        # Check if the user pressed the Esc key\n",
    "        c = cv2.waitKey()\n",
    "        if c == 27:\n",
    "            break"
   ]
  }
 ],
 "metadata": {
  "jupytext": {
   "main_language": "python",
   "text_representation": {
    "extension": ".py",
    "format_name": "light"
   }
  }
 },
 "nbformat": 4,
 "nbformat_minor": 2
}
