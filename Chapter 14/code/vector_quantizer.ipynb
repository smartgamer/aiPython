{
 "cells": [
  {
   "cell_type": "code",
   "execution_count": null,
   "metadata": {},
   "outputs": [],
   "source": [
    "import numpy as np\n",
    "import matplotlib.pyplot as plt\n",
    "import neurolab as nl"
   ]
  },
  {
   "cell_type": "code",
   "execution_count": null,
   "metadata": {},
   "outputs": [],
   "source": [
    "# Load input data\n",
    "text = np.loadtxt('data_vector_quantization.txt')"
   ]
  },
  {
   "cell_type": "code",
   "execution_count": null,
   "metadata": {},
   "outputs": [],
   "source": [
    "# Separate it into data and labels\n",
    "data = text[:, 0:2]\n",
    "labels = text[:, 2:]"
   ]
  },
  {
   "cell_type": "code",
   "execution_count": null,
   "metadata": {},
   "outputs": [],
   "source": [
    "# Define a neural network with 2 layers:\n",
    "# 10 neurons in input layer and 4 neurons in output layer\n",
    "num_input_neurons = 10\n",
    "num_output_neurons = 4\n",
    "weights = [1/num_output_neurons] * num_output_neurons\n",
    "nn = nl.net.newlvq(nl.tool.minmax(data), num_input_neurons, weights)"
   ]
  },
  {
   "cell_type": "code",
   "execution_count": null,
   "metadata": {},
   "outputs": [],
   "source": [
    "# Train the neural network\n",
    "_ = nn.train(data, labels, epochs=500, goal=-1)"
   ]
  },
  {
   "cell_type": "code",
   "execution_count": null,
   "metadata": {},
   "outputs": [],
   "source": [
    "# Create the input grid\n",
    "xx, yy = np.meshgrid(np.arange(0, 10, 0.2), np.arange(0, 10, 0.2))\n",
    "xx.shape = xx.size, 1\n",
    "yy.shape = yy.size, 1\n",
    "grid_xy = np.concatenate((xx, yy), axis=1)"
   ]
  },
  {
   "cell_type": "code",
   "execution_count": null,
   "metadata": {},
   "outputs": [],
   "source": [
    "# Evaluate the input grid of points\n",
    "grid_eval = nn.sim(grid_xy)"
   ]
  },
  {
   "cell_type": "code",
   "execution_count": null,
   "metadata": {},
   "outputs": [],
   "source": [
    "# Define the 4 classes\n",
    "class_1 = data[labels[:,0] == 1]\n",
    "class_2 = data[labels[:,1] == 1]\n",
    "class_3 = data[labels[:,2] == 1]\n",
    "class_4 = data[labels[:,3] == 1]"
   ]
  },
  {
   "cell_type": "code",
   "execution_count": null,
   "metadata": {},
   "outputs": [],
   "source": [
    "# Define X-Y grids for all the 4 classes\n",
    "grid_1 = grid_xy[grid_eval[:,0] == 1]\n",
    "grid_2 = grid_xy[grid_eval[:,1] == 1]\n",
    "grid_3 = grid_xy[grid_eval[:,2] == 1]\n",
    "grid_4 = grid_xy[grid_eval[:,3] == 1]"
   ]
  },
  {
   "cell_type": "code",
   "execution_count": null,
   "metadata": {},
   "outputs": [],
   "source": [
    "# Plot the outputs \n",
    "plt.plot(class_1[:,0], class_1[:,1], 'ko', \n",
    "        class_2[:,0], class_2[:,1], 'ko', \n",
    "        class_3[:,0], class_3[:,1], 'ko', \n",
    "        class_4[:,0], class_4[:,1], 'ko')\n",
    "plt.plot(grid_1[:,0], grid_1[:,1], 'm.',\n",
    "        grid_2[:,0], grid_2[:,1], 'bx',\n",
    "        grid_3[:,0], grid_3[:,1], 'c^', \n",
    "        grid_4[:,0], grid_4[:,1], 'y+')\n",
    "plt.axis([0, 10, 0, 10])\n",
    "plt.xlabel('Dimension 1')\n",
    "plt.ylabel('Dimension 2')\n",
    "plt.title('Vector quantization')"
   ]
  },
  {
   "cell_type": "code",
   "execution_count": null,
   "metadata": {
    "lines_to_next_cell": 2
   },
   "outputs": [],
   "source": [
    "plt.show()"
   ]
  }
 ],
 "metadata": {
  "jupytext": {
   "main_language": "python",
   "text_representation": {
    "extension": ".py",
    "format_name": "light"
   }
  }
 },
 "nbformat": 4,
 "nbformat_minor": 2
}
