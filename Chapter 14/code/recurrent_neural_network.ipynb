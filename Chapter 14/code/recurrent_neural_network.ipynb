{
 "cells": [
  {
   "cell_type": "code",
   "execution_count": null,
   "metadata": {},
   "outputs": [],
   "source": [
    "import numpy as np\n",
    "import matplotlib.pyplot as plt\n",
    "import neurolab as nl"
   ]
  },
  {
   "cell_type": "code",
   "execution_count": null,
   "metadata": {},
   "outputs": [],
   "source": [
    "def get_data(num_points):\n",
    "    # Create sine waveforms\n",
    "    wave_1 = 0.5 * np.sin(np.arange(0, num_points))\n",
    "    wave_2 = 3.6 * np.sin(np.arange(0, num_points))\n",
    "    wave_3 = 1.1 * np.sin(np.arange(0, num_points))\n",
    "    wave_4 = 4.7 * np.sin(np.arange(0, num_points))\n",
    "\n",
    "    # Create varying amplitudes\n",
    "    amp_1 = np.ones(num_points)\n",
    "    amp_2 = 2.1 + np.zeros(num_points) \n",
    "    amp_3 = 3.2 * np.ones(num_points) \n",
    "    amp_4 = 0.8 + np.zeros(num_points) \n",
    "\n",
    "    wave = np.array([wave_1, wave_2, wave_3, wave_4]).reshape(num_points * 4, 1)\n",
    "    amp = np.array([[amp_1, amp_2, amp_3, amp_4]]).reshape(num_points * 4, 1)\n",
    "\n",
    "    return wave, amp "
   ]
  },
  {
   "cell_type": "code",
   "execution_count": null,
   "metadata": {},
   "outputs": [],
   "source": [
    "# Visualize the output \n",
    "def visualize_output(nn, num_points_test):\n",
    "    wave, amp = get_data(num_points_test)\n",
    "    output = nn.sim(wave)\n",
    "    plt.plot(amp.reshape(num_points_test * 4))\n",
    "    plt.plot(output.reshape(num_points_test * 4))"
   ]
  },
  {
   "cell_type": "code",
   "execution_count": null,
   "metadata": {},
   "outputs": [],
   "source": [
    "if __name__=='__main__':\n",
    "    # Create some sample data\n",
    "    num_points = 40\n",
    "    wave, amp = get_data(num_points)\n",
    "\n",
    "    # Create a recurrent neural network with 2 layers\n",
    "    nn = nl.net.newelm([[-2, 2]], [10, 1], [nl.trans.TanSig(), nl.trans.PureLin()])\n",
    "\n",
    "    # Set the init functions for each layer \n",
    "    nn.layers[0].initf = nl.init.InitRand([-0.1, 0.1], 'wb')\n",
    "    nn.layers[1].initf = nl.init.InitRand([-0.1, 0.1], 'wb')\n",
    "    nn.init()\n",
    "\n",
    "    # Train the recurrent neural network\n",
    "    error_progress = nn.train(wave, amp, epochs=1200, show=100, goal=0.01)\n",
    "\n",
    "    # Run the training data through the network\n",
    "    output = nn.sim(wave)\n",
    "\n",
    "    # Plot the results\n",
    "    plt.subplot(211)\n",
    "    plt.plot(error_progress)\n",
    "    plt.xlabel('Number of epochs')\n",
    "    plt.ylabel('Error (MSE)')\n",
    "\n",
    "    plt.subplot(212)\n",
    "    plt.plot(amp.reshape(num_points * 4))\n",
    "    plt.plot(output.reshape(num_points * 4))\n",
    "    plt.legend(['Original', 'Predicted'])\n",
    "\n",
    "    # Testing the network performance on unknown data \n",
    "    plt.figure()\n",
    "\n",
    "    plt.subplot(211)\n",
    "    visualize_output(nn, 82)\n",
    "    plt.xlim([0, 300])\n",
    "\n",
    "    plt.subplot(212)\n",
    "    visualize_output(nn, 49)\n",
    "    plt.xlim([0, 300])\n",
    "\n",
    "    plt.show()"
   ]
  }
 ],
 "metadata": {
  "jupytext": {
   "main_language": "python",
   "text_representation": {
    "extension": ".py",
    "format_name": "light"
   }
  }
 },
 "nbformat": 4,
 "nbformat_minor": 2
}
