{
 "cells": [
  {
   "cell_type": "code",
   "execution_count": null,
   "metadata": {},
   "outputs": [],
   "source": [
    "import cv2\n",
    "import numpy as np"
   ]
  },
  {
   "cell_type": "code",
   "execution_count": null,
   "metadata": {},
   "outputs": [],
   "source": [
    "# Define a function to get the current frame from the webcam\n",
    "def get_frame(cap, scaling_factor):\n",
    "    # Read the current frame from the video capture object\n",
    "    _, frame = cap.read()\n",
    "\n",
    "    # Resize the image\n",
    "    frame = cv2.resize(frame, None, fx=scaling_factor, \n",
    "            fy=scaling_factor, interpolation=cv2.INTER_AREA)\n",
    "\n",
    "    return frame"
   ]
  },
  {
   "cell_type": "code",
   "execution_count": null,
   "metadata": {},
   "outputs": [],
   "source": [
    "if __name__=='__main__':\n",
    "    # Define the video capture object\n",
    "    cap = cv2.VideoCapture(0)\n",
    "\n",
    "    # Define the background subtractor object\n",
    "    bg_subtractor = cv2.createBackgroundSubtractorMOG2()\n",
    "     \n",
    "    # Define the number of previous frames to use to learn. \n",
    "    # This factor controls the learning rate of the algorithm. \n",
    "    # The learning rate refers to the rate at which your model \n",
    "    # will learn about the background. Higher value for \n",
    "    # ‘history’ indicates a slower learning rate. You can \n",
    "    # play with this parameter to see how it affects the output.\n",
    "    history = 100\n",
    "\n",
    "    # Define the learning rate\n",
    "    learning_rate = 1.0/history\n",
    "\n",
    "    # Keep reading the frames from the webcam \n",
    "    # until the user hits the 'Esc' key\n",
    "    while True:\n",
    "        # Grab the current frame\n",
    "        frame = get_frame(cap, 0.5)\n",
    "\n",
    "        # Compute the mask \n",
    "        mask = bg_subtractor.apply(frame, learningRate=learning_rate)\n",
    "\n",
    "        # Convert grayscale image to RGB color image\n",
    "        mask = cv2.cvtColor(mask, cv2.COLOR_GRAY2BGR)\n",
    "\n",
    "        # Display the images\n",
    "        cv2.imshow('Input', frame)\n",
    "        cv2.imshow('Output', mask & frame)\n",
    "\n",
    "        # Check if the user hit the 'Esc' key\n",
    "        c = cv2.waitKey(10)\n",
    "        if c == 27:\n",
    "            break\n",
    "\n",
    "    # Release the video capture object\n",
    "    cap.release()\n",
    "    \n",
    "    # Close all the windows\n",
    "    cv2.destroyAllWindows()"
   ]
  }
 ],
 "metadata": {
  "jupytext": {
   "main_language": "python",
   "text_representation": {
    "extension": ".py",
    "format_name": "light"
   }
  }
 },
 "nbformat": 4,
 "nbformat_minor": 2
}
