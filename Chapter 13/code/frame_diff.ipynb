{
 "cells": [
  {
   "cell_type": "code",
   "execution_count": null,
   "metadata": {},
   "outputs": [],
   "source": [
    "import cv2"
   ]
  },
  {
   "cell_type": "code",
   "execution_count": null,
   "metadata": {},
   "outputs": [],
   "source": [
    "# Compute the frame differences\n",
    "def frame_diff(prev_frame, cur_frame, next_frame):\n",
    "    # Difference between the current frame and the next frame\n",
    "    diff_frames_1 = cv2.absdiff(next_frame, cur_frame)\n",
    "\n",
    "    # Difference between the current frame and the previous frame\n",
    "    diff_frames_2 = cv2.absdiff(cur_frame, prev_frame)\n",
    "\n",
    "    return cv2.bitwise_and(diff_frames_1, diff_frames_2)"
   ]
  },
  {
   "cell_type": "code",
   "execution_count": null,
   "metadata": {},
   "outputs": [],
   "source": [
    "# Define a function to get the current frame from the webcam\n",
    "def get_frame(cap, scaling_factor):\n",
    "    # Read the current frame from the video capture object\n",
    "    _, frame = cap.read()\n",
    "\n",
    "    # Resize the image\n",
    "    frame = cv2.resize(frame, None, fx=scaling_factor, \n",
    "            fy=scaling_factor, interpolation=cv2.INTER_AREA)\n",
    "\n",
    "    # Convert to grayscale\n",
    "    gray = cv2.cvtColor(frame, cv2.COLOR_RGB2GRAY)\n",
    "\n",
    "    return gray "
   ]
  },
  {
   "cell_type": "code",
   "execution_count": null,
   "metadata": {},
   "outputs": [],
   "source": [
    "if __name__=='__main__':\n",
    "    # Define the video capture object\n",
    "    cap = cv2.VideoCapture(0)\n",
    "\n",
    "    # Define the scaling factor for the images\n",
    "    scaling_factor = 0.5\n",
    "    \n",
    "    # Grab the current frame\n",
    "    prev_frame = get_frame(cap, scaling_factor) \n",
    "\n",
    "    # Grab the next frame\n",
    "    cur_frame = get_frame(cap, scaling_factor) \n",
    "\n",
    "    # Grab the frame after that\n",
    "    next_frame = get_frame(cap, scaling_factor) \n",
    "\n",
    "    # Keep reading the frames from the webcam \n",
    "    # until the user hits the 'Esc' key\n",
    "    while True:\n",
    "        # Display the frame difference\n",
    "        cv2.imshow('Object Movement', frame_diff(prev_frame, \n",
    "                cur_frame, next_frame))\n",
    "\n",
    "        # Update the variables\n",
    "        prev_frame = cur_frame\n",
    "        cur_frame = next_frame \n",
    "\n",
    "        # Grab the next frame\n",
    "        next_frame = get_frame(cap, scaling_factor)\n",
    "\n",
    "        # Check if the user hit the 'Esc' key\n",
    "        key = cv2.waitKey(10)\n",
    "        if key == 27:\n",
    "            break\n",
    "\n",
    "    # Close all the windows\n",
    "    cv2.destroyAllWindows()"
   ]
  }
 ],
 "metadata": {
  "jupytext": {
   "main_language": "python",
   "text_representation": {
    "extension": ".py",
    "format_name": "light"
   }
  }
 },
 "nbformat": 4,
 "nbformat_minor": 2
}
