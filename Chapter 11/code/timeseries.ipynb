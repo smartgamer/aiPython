{
 "cells": [
  {
   "cell_type": "code",
   "execution_count": null,
   "metadata": {},
   "outputs": [],
   "source": [
    "import numpy as np\n",
    "import matplotlib.pyplot as plt\n",
    "import pandas as pd"
   ]
  },
  {
   "cell_type": "code",
   "execution_count": null,
   "metadata": {},
   "outputs": [],
   "source": [
    "def read_data(input_file, index):\n",
    "    # Read the data from the input file\n",
    "    input_data = np.loadtxt(input_file, delimiter=',')\n",
    "\n",
    "    # Lambda function to convert strings to Pandas date format\n",
    "    to_date = lambda x, y: str(int(x)) + '-' + str(int(y))\n",
    "\n",
    "    # Extract the start date\n",
    "    start = to_date(input_data[0, 0], input_data[0, 1])\n",
    "\n",
    "    # Extract the end date\n",
    "    if input_data[-1, 1] == 12:\n",
    "        year = input_data[-1, 0] + 1\n",
    "        month = 1\n",
    "    else:\n",
    "        year = input_data[-1, 0]\n",
    "        month = input_data[-1, 1] + 1\n",
    "\n",
    "    end = to_date(year, month)\n",
    "\n",
    "    # Create a date list with a monthly frequency\n",
    "    date_indices = pd.date_range(start, end, freq='M')\n",
    "\n",
    "    # Add timestamps to the input data to create time-series data\n",
    "    output = pd.Series(input_data[:, index], index=date_indices)\n",
    "\n",
    "    return output "
   ]
  },
  {
   "cell_type": "code",
   "execution_count": null,
   "metadata": {},
   "outputs": [],
   "source": [
    "if __name__=='__main__':\n",
    "    # Input filename\n",
    "    input_file = 'data_2D.txt'\n",
    "\n",
    "    # Specify the columns that need to be converted \n",
    "    # into time-series data\n",
    "    indices = [2, 3]\n",
    "\n",
    "    # Iterate through the columns and plot the data\n",
    "    for index in indices:\n",
    "        # Convert the column to timeseries format\n",
    "        timeseries = read_data(input_file, index)\n",
    "\n",
    "        # Plot the data\n",
    "        plt.figure()\n",
    "        timeseries.plot()\n",
    "        plt.title('Dimension ' + str(index - 1))\n",
    "\n",
    "    plt.show()"
   ]
  }
 ],
 "metadata": {
  "jupytext": {
   "main_language": "python",
   "text_representation": {
    "extension": ".py",
    "format_name": "light"
   }
  }
 },
 "nbformat": 4,
 "nbformat_minor": 2
}
