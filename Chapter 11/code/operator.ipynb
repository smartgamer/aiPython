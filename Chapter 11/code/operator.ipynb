{
 "cells": [
  {
   "cell_type": "code",
   "execution_count": null,
   "metadata": {},
   "outputs": [],
   "source": [
    "import numpy as np\n",
    "import pandas as pd\n",
    "import matplotlib.pyplot as plt"
   ]
  },
  {
   "cell_type": "code",
   "execution_count": null,
   "metadata": {},
   "outputs": [],
   "source": [
    "from timeseries import read_data "
   ]
  },
  {
   "cell_type": "code",
   "execution_count": null,
   "metadata": {},
   "outputs": [],
   "source": [
    "# Input filename\n",
    "input_file = 'data_2D.txt'"
   ]
  },
  {
   "cell_type": "code",
   "execution_count": null,
   "metadata": {},
   "outputs": [],
   "source": [
    "# Load data\n",
    "x1 = read_data(input_file, 2)\n",
    "x2 = read_data(input_file, 3)"
   ]
  },
  {
   "cell_type": "code",
   "execution_count": null,
   "metadata": {},
   "outputs": [],
   "source": [
    "# Create pandas dataframe for slicing\n",
    "data = pd.DataFrame({'dim1': x1, 'dim2': x2})"
   ]
  },
  {
   "cell_type": "code",
   "execution_count": null,
   "metadata": {},
   "outputs": [],
   "source": [
    "# Plot data\n",
    "start = '1968'\n",
    "end = '1975'\n",
    "data[start:end].plot()\n",
    "plt.title('Data overlapped on top of each other')"
   ]
  },
  {
   "cell_type": "code",
   "execution_count": null,
   "metadata": {},
   "outputs": [],
   "source": [
    "# Filtering using conditions\n",
    "# - 'dim1' is smaller than a certain threshold\n",
    "# - 'dim2' is greater than a certain threshold\n",
    "data[(data['dim1'] < 45) & (data['dim2'] > 30)].plot()\n",
    "plt.title('dim1 < 45 and dim2 > 30')"
   ]
  },
  {
   "cell_type": "code",
   "execution_count": null,
   "metadata": {},
   "outputs": [],
   "source": [
    "# Adding two dataframes \n",
    "plt.figure()\n",
    "diff = data[start:end]['dim1'] + data[start:end]['dim2']\n",
    "diff.plot()\n",
    "plt.title('Summation (dim1 + dim2)')"
   ]
  },
  {
   "cell_type": "code",
   "execution_count": null,
   "metadata": {},
   "outputs": [],
   "source": [
    "plt.show()"
   ]
  }
 ],
 "metadata": {
  "jupytext": {
   "main_language": "python",
   "text_representation": {
    "extension": ".py",
    "format_name": "light"
   }
  }
 },
 "nbformat": 4,
 "nbformat_minor": 2
}
