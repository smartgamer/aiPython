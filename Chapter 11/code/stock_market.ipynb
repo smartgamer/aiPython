{
 "cells": [
  {
   "cell_type": "code",
   "execution_count": null,
   "metadata": {},
   "outputs": [],
   "source": [
    "import datetime\n",
    "import warnings"
   ]
  },
  {
   "cell_type": "code",
   "execution_count": null,
   "metadata": {},
   "outputs": [],
   "source": [
    "import numpy as np\n",
    "import matplotlib.pyplot as plt\n",
    "from matplotlib.finance import quotes_historical_yahoo_ochl\\\n",
    "        as quotes_yahoo\n",
    "from hmmlearn.hmm import GaussianHMM"
   ]
  },
  {
   "cell_type": "code",
   "execution_count": null,
   "metadata": {},
   "outputs": [],
   "source": [
    "# Load historical stock quotes from matplotlib package \n",
    "start = datetime.date(1970, 9, 4) \n",
    "end = datetime.date(2016, 5, 17)\n",
    "stock_quotes = quotes_yahoo('INTC', start, end) "
   ]
  },
  {
   "cell_type": "code",
   "execution_count": null,
   "metadata": {},
   "outputs": [],
   "source": [
    "# Extract the closing quotes everyday\n",
    "closing_quotes = np.array([quote[2] for quote in stock_quotes])"
   ]
  },
  {
   "cell_type": "code",
   "execution_count": null,
   "metadata": {},
   "outputs": [],
   "source": [
    "# Extract the volume of shares traded everyday \n",
    "volumes = np.array([quote[5] for quote in stock_quotes])[1:]"
   ]
  },
  {
   "cell_type": "code",
   "execution_count": null,
   "metadata": {},
   "outputs": [],
   "source": [
    "# Take the percentage difference of closing stock prices\n",
    "diff_percentages = 100.0 * np.diff(closing_quotes) / closing_quotes[:-1]"
   ]
  },
  {
   "cell_type": "code",
   "execution_count": null,
   "metadata": {},
   "outputs": [],
   "source": [
    "# Take the list of dates starting from the second value\n",
    "dates = np.array([quote[0] for quote in stock_quotes], dtype=np.int)[1:]"
   ]
  },
  {
   "cell_type": "code",
   "execution_count": null,
   "metadata": {},
   "outputs": [],
   "source": [
    "# Stack the differences and volume values column-wise for training\n",
    "training_data = np.column_stack([diff_percentages, volumes])"
   ]
  },
  {
   "cell_type": "code",
   "execution_count": null,
   "metadata": {},
   "outputs": [],
   "source": [
    "# Create and train Gaussian HMM \n",
    "hmm = GaussianHMM(n_components=7, covariance_type='diag', n_iter=1000)\n",
    "with warnings.catch_warnings():\n",
    "    warnings.simplefilter('ignore')\n",
    "    hmm.fit(training_data)"
   ]
  },
  {
   "cell_type": "code",
   "execution_count": null,
   "metadata": {},
   "outputs": [],
   "source": [
    "# Generate data using the HMM model\n",
    "num_samples = 300 \n",
    "samples, _ = hmm.sample(num_samples) "
   ]
  },
  {
   "cell_type": "code",
   "execution_count": null,
   "metadata": {},
   "outputs": [],
   "source": [
    "# Plot the difference percentages \n",
    "plt.figure()\n",
    "plt.title('Difference percentages')\n",
    "plt.plot(np.arange(num_samples), samples[:, 0], c='black')"
   ]
  },
  {
   "cell_type": "code",
   "execution_count": null,
   "metadata": {},
   "outputs": [],
   "source": [
    "# Plot the volume of shares traded\n",
    "plt.figure()\n",
    "plt.title('Volume of shares')\n",
    "plt.plot(np.arange(num_samples), samples[:, 1], c='black')\n",
    "plt.ylim(ymin=0)"
   ]
  },
  {
   "cell_type": "code",
   "execution_count": null,
   "metadata": {
    "lines_to_next_cell": 2
   },
   "outputs": [],
   "source": [
    "plt.show()"
   ]
  }
 ],
 "metadata": {
  "jupytext": {
   "main_language": "python",
   "text_representation": {
    "extension": ".py",
    "format_name": "light"
   }
  }
 },
 "nbformat": 4,
 "nbformat_minor": 2
}
