{
 "cells": [
  {
   "cell_type": "code",
   "execution_count": null,
   "metadata": {},
   "outputs": [],
   "source": [
    "import numpy as np\n",
    "import matplotlib.pyplot as plt\n",
    "import pandas as pd"
   ]
  },
  {
   "cell_type": "code",
   "execution_count": null,
   "metadata": {},
   "outputs": [],
   "source": [
    "from timeseries import read_data "
   ]
  },
  {
   "cell_type": "code",
   "execution_count": null,
   "metadata": {},
   "outputs": [],
   "source": [
    "# Input filename\n",
    "input_file = 'data_2D.txt'"
   ]
  },
  {
   "cell_type": "code",
   "execution_count": null,
   "metadata": {},
   "outputs": [],
   "source": [
    "# Load input data in time series format\n",
    "x1 = read_data(input_file, 2)\n",
    "x2 = read_data(input_file, 3)"
   ]
  },
  {
   "cell_type": "code",
   "execution_count": null,
   "metadata": {},
   "outputs": [],
   "source": [
    "# Create pandas dataframe for slicing\n",
    "data = pd.DataFrame({'dim1': x1, 'dim2': x2})"
   ]
  },
  {
   "cell_type": "code",
   "execution_count": null,
   "metadata": {},
   "outputs": [],
   "source": [
    "# Extract max and min values\n",
    "print('\\nMaximum values for each dimension:')\n",
    "print(data.max())\n",
    "print('\\nMinimum values for each dimension:')\n",
    "print(data.min())"
   ]
  },
  {
   "cell_type": "code",
   "execution_count": null,
   "metadata": {},
   "outputs": [],
   "source": [
    "# Extract overall mean and row-wise mean values\n",
    "print('\\nOverall mean:')\n",
    "print(data.mean())\n",
    "print('\\nRow-wise mean:')\n",
    "print(data.mean(1)[:12])"
   ]
  },
  {
   "cell_type": "code",
   "execution_count": null,
   "metadata": {},
   "outputs": [],
   "source": [
    "# Plot the rolling mean using a window size of 24\n",
    "data.rolling(center=False, window=24).mean().plot()\n",
    "plt.title('Rolling mean')"
   ]
  },
  {
   "cell_type": "code",
   "execution_count": null,
   "metadata": {},
   "outputs": [],
   "source": [
    "# Extract correlation coefficients\n",
    "print('\\nCorrelation coefficients:\\n', data.corr())"
   ]
  },
  {
   "cell_type": "code",
   "execution_count": null,
   "metadata": {},
   "outputs": [],
   "source": [
    "# Plot rolling correlation using a window size of 60\n",
    "plt.figure()\n",
    "plt.title('Rolling correlation')\n",
    "data['dim1'].rolling(window=60).corr(other=data['dim2']).plot()"
   ]
  },
  {
   "cell_type": "code",
   "execution_count": null,
   "metadata": {},
   "outputs": [],
   "source": [
    "plt.show()"
   ]
  }
 ],
 "metadata": {
  "jupytext": {
   "main_language": "python",
   "text_representation": {
    "extension": ".py",
    "format_name": "light"
   }
  }
 },
 "nbformat": 4,
 "nbformat_minor": 2
}
