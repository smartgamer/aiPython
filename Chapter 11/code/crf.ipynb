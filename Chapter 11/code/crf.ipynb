{
 "cells": [
  {
   "cell_type": "code",
   "execution_count": null,
   "metadata": {},
   "outputs": [],
   "source": [
    "import os\n",
    "import argparse \n",
    "import string\n",
    "import pickle "
   ]
  },
  {
   "cell_type": "code",
   "execution_count": null,
   "metadata": {},
   "outputs": [],
   "source": [
    "import numpy as np\n",
    "import matplotlib.pyplot as plt\n",
    "from pystruct.datasets import load_letters\n",
    "from pystruct.models import ChainCRF \n",
    "from pystruct.learners import FrankWolfeSSVM"
   ]
  },
  {
   "cell_type": "code",
   "execution_count": null,
   "metadata": {},
   "outputs": [],
   "source": [
    "def build_arg_parser():\n",
    "    parser = argparse.ArgumentParser(description='Trains a Conditional\\\n",
    "            Random Field classifier')\n",
    "    parser.add_argument(\"--C\", dest=\"c_val\", required=False, type=float,\n",
    "            default=1.0, help='C value to be used for training')\n",
    "    return parser"
   ]
  },
  {
   "cell_type": "code",
   "execution_count": null,
   "metadata": {},
   "outputs": [],
   "source": [
    "# Class to model the CRF\n",
    "class CRFModel(object):\n",
    "    def __init__(self, c_val=1.0):\n",
    "        self.clf = FrankWolfeSSVM(model=ChainCRF(), \n",
    "                C=c_val, max_iter=50) \n",
    "\n",
    "    # Load the training data\n",
    "    def load_data(self):\n",
    "        alphabets = load_letters()\n",
    "        X = np.array(alphabets['data'])\n",
    "        y = np.array(alphabets['labels'])\n",
    "        folds = alphabets['folds']\n",
    "\n",
    "        return X, y, folds\n",
    "\n",
    "    # Train the CRF\n",
    "    def train(self, X_train, y_train):\n",
    "        self.clf.fit(X_train, y_train)\n",
    "\n",
    "    # Evaluate the accuracy of the CRF\n",
    "    def evaluate(self, X_test, y_test):\n",
    "        return self.clf.score(X_test, y_test)\n",
    "\n",
    "    # Run the CRF on unknown data\n",
    "    def classify(self, input_data):\n",
    "        return self.clf.predict(input_data)[0]"
   ]
  },
  {
   "cell_type": "code",
   "execution_count": null,
   "metadata": {},
   "outputs": [],
   "source": [
    "# Convert indices to alphabets\n",
    "def convert_to_letters(indices):\n",
    "    # Create a numpy array of all alphabets\n",
    "    alphabets = np.array(list(string.ascii_lowercase))\n",
    "\n",
    "    # Extract the letters based on input indices\n",
    "    output = np.take(alphabets, indices)\n",
    "    output = ''.join(output)\n",
    "\n",
    "    return output"
   ]
  },
  {
   "cell_type": "code",
   "execution_count": null,
   "metadata": {},
   "outputs": [],
   "source": [
    "if __name__=='__main__':\n",
    "    args = build_arg_parser().parse_args()\n",
    "    c_val = args.c_val\n",
    "\n",
    "    # Create the CRF model\n",
    "    crf = CRFModel(c_val)\n",
    "\n",
    "    # Load the train and test data\n",
    "    X, y, folds = crf.load_data()\n",
    "    X_train, X_test = X[folds == 1], X[folds != 1]\n",
    "    y_train, y_test = y[folds == 1], y[folds != 1]\n",
    "\n",
    "    # Train the CRF model\n",
    "    print('\\nTraining the CRF model...')\n",
    "    crf.train(X_train, y_train)\n",
    "\n",
    "    # Evaluate the accuracy\n",
    "    score = crf.evaluate(X_test, y_test)\n",
    "    print('\\nAccuracy score =', str(round(score*100, 2)) + '%')\n",
    "\n",
    "    indices = range(3000, len(y_test), 200)\n",
    "    for index in indices:\n",
    "        print(\"\\nOriginal  =\", convert_to_letters(y_test[index]))\n",
    "        predicted = crf.classify([X_test[index]])\n",
    "        print(\"Predicted =\", convert_to_letters(predicted))"
   ]
  }
 ],
 "metadata": {
  "jupytext": {
   "main_language": "python",
   "text_representation": {
    "extension": ".py",
    "format_name": "light"
   }
  }
 },
 "nbformat": 4,
 "nbformat_minor": 2
}
