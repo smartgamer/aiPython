{
 "cells": [
  {
   "cell_type": "code",
   "execution_count": null,
   "metadata": {},
   "outputs": [],
   "source": [
    "import argparse"
   ]
  },
  {
   "cell_type": "code",
   "execution_count": null,
   "metadata": {},
   "outputs": [],
   "source": [
    "import gym"
   ]
  },
  {
   "cell_type": "code",
   "execution_count": null,
   "metadata": {},
   "outputs": [],
   "source": [
    "def build_arg_parser():\n",
    "    parser = argparse.ArgumentParser(description='Run an environment')\n",
    "    parser.add_argument('--input-env', dest='input_env', required=True,\n",
    "            choices=['cartpole', 'mountaincar', 'pendulum', 'taxi', 'lake'], \n",
    "            help='Specify the name of the environment')\n",
    "    return parser"
   ]
  },
  {
   "cell_type": "code",
   "execution_count": null,
   "metadata": {
    "lines_to_next_cell": 2
   },
   "outputs": [],
   "source": [
    "if __name__=='__main__':\n",
    "    args = build_arg_parser().parse_args()\n",
    "    input_env = args.input_env\n",
    "\n",
    "    name_map = {'cartpole': 'CartPole-v0', \n",
    "                'mountaincar': 'MountainCar-v0',\n",
    "                'pendulum': 'Pendulum-v0',\n",
    "                'taxi': 'Taxi-v1',\n",
    "                'lake': 'FrozenLake-v0'}\n",
    "\n",
    "    # Create the environment and reset it\n",
    "    env = gym.make(name_map[input_env])\n",
    "    env.reset()\n",
    "\n",
    "    # Iterate 1000 times\n",
    "    for _ in range(1000):\n",
    "        # Render the environment\n",
    "        env.render()\n",
    "\n",
    "        # take a random action\n",
    "        env.step(env.action_space.sample()) "
   ]
  }
 ],
 "metadata": {
  "jupytext": {
   "main_language": "python",
   "text_representation": {
    "extension": ".py",
    "format_name": "light"
   }
  }
 },
 "nbformat": 4,
 "nbformat_minor": 2
}
