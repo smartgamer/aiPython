{
 "cells": [
  {
   "cell_type": "code",
   "execution_count": null,
   "metadata": {},
   "outputs": [],
   "source": [
    "import argparse"
   ]
  },
  {
   "cell_type": "code",
   "execution_count": null,
   "metadata": {},
   "outputs": [],
   "source": [
    "import gym"
   ]
  },
  {
   "cell_type": "code",
   "execution_count": null,
   "metadata": {},
   "outputs": [],
   "source": [
    "def build_arg_parser():\n",
    "    parser = argparse.ArgumentParser(description='Run an environment')\n",
    "    parser.add_argument('--input-env', dest='input_env', required=True,\n",
    "            choices=['cartpole', 'mountaincar', 'pendulum'], \n",
    "            help='Specify the name of the environment')\n",
    "    return parser"
   ]
  },
  {
   "cell_type": "code",
   "execution_count": null,
   "metadata": {},
   "outputs": [],
   "source": [
    "if __name__=='__main__':\n",
    "    args = build_arg_parser().parse_args()\n",
    "    input_env = args.input_env\n",
    "\n",
    "    name_map = {'cartpole': 'CartPole-v0', \n",
    "                'mountaincar': 'MountainCar-v0',\n",
    "                'pendulum': 'Pendulum-v0'}\n",
    "\n",
    "    # Create the environment \n",
    "    env = gym.make(name_map[input_env])\n",
    "\n",
    "    # Start iterating \n",
    "    for _ in range(20):\n",
    "        # Reset the environment\n",
    "        observation = env.reset()\n",
    "\n",
    "        # Iterate 100 times\n",
    "        for i in range(100):\n",
    "            # Render the environment\n",
    "            env.render()\n",
    "\n",
    "            # Print the current observation\n",
    "            print(observation)\n",
    "\n",
    "            # Take action \n",
    "            action = env.action_space.sample()\n",
    "\n",
    "            # Extract the observation, reward, status and \n",
    "            # other info based on the action taken\n",
    "            observation, reward, done, info = env.step(action)\n",
    "            \n",
    "            # Check if it's done\n",
    "            if done:\n",
    "                print('Episode finished after {} timesteps'.format(i+1))\n",
    "                break"
   ]
  }
 ],
 "metadata": {
  "jupytext": {
   "main_language": "python",
   "text_representation": {
    "extension": ".py",
    "format_name": "light"
   }
  }
 },
 "nbformat": 4,
 "nbformat_minor": 2
}
