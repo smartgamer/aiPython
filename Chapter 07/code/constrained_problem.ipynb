{
 "cells": [
  {
   "cell_type": "code",
   "execution_count": null,
   "metadata": {},
   "outputs": [],
   "source": [
    "from simpleai.search import CspProblem, backtrack, \\\n",
    "        min_conflicts, MOST_CONSTRAINED_VARIABLE, \\\n",
    "        HIGHEST_DEGREE_VARIABLE, LEAST_CONSTRAINING_VALUE"
   ]
  },
  {
   "cell_type": "code",
   "execution_count": null,
   "metadata": {},
   "outputs": [],
   "source": [
    "# Constraint that expects all the different variables \n",
    "# to have different values\n",
    "def constraint_unique(variables, values):\n",
    "    # Check if all the values are unique\n",
    "    return len(values) == len(set(values))  "
   ]
  },
  {
   "cell_type": "code",
   "execution_count": null,
   "metadata": {},
   "outputs": [],
   "source": [
    "# Constraint that specifies that one variable \n",
    "# should be bigger than other\n",
    "def constraint_bigger(variables, values):\n",
    "    return values[0] > values[1]"
   ]
  },
  {
   "cell_type": "code",
   "execution_count": null,
   "metadata": {},
   "outputs": [],
   "source": [
    "# Constraint that specifies that there should be \n",
    "# one odd and one even variables in the two variables \n",
    "def constraint_odd_even(variables, values):\n",
    "    # If first variable is even, then second should\n",
    "    # be odd and vice versa\n",
    "    if values[0] % 2 == 0:\n",
    "        return values[1] % 2 == 1 \n",
    "    else:\n",
    "        return values[1] % 2 == 0"
   ]
  },
  {
   "cell_type": "code",
   "execution_count": null,
   "metadata": {
    "lines_to_next_cell": 2
   },
   "outputs": [],
   "source": [
    "if __name__=='__main__':\n",
    "    variables = ('John', 'Anna', 'Tom', 'Patricia')\n",
    "\n",
    "    domains = {\n",
    "        'John': [1, 2, 3],\n",
    "        'Anna': [1, 3],\n",
    "        'Tom': [2, 4],\n",
    "        'Patricia': [2, 3, 4],\n",
    "    }\n",
    "\n",
    "    constraints = [\n",
    "        (('John', 'Anna', 'Tom'), constraint_unique),\n",
    "        (('Tom', 'Anna'), constraint_bigger),\n",
    "        (('John', 'Patricia'), constraint_odd_even),\n",
    "    ]\n",
    "\n",
    "    problem = CspProblem(variables, domains, constraints)\n",
    "\n",
    "    print('\\nSolutions:\\n\\nNormal:', backtrack(problem))\n",
    "    print('\\nMost constrained variable:', backtrack(problem, \n",
    "            variable_heuristic=MOST_CONSTRAINED_VARIABLE))\n",
    "    print('\\nHighest degree variable:', backtrack(problem, \n",
    "            variable_heuristic=HIGHEST_DEGREE_VARIABLE))\n",
    "    print('\\nLeast constraining value:', backtrack(problem, \n",
    "            value_heuristic=LEAST_CONSTRAINING_VALUE))\n",
    "    print('\\nMost constrained variable and least constraining value:', \n",
    "            backtrack(problem, variable_heuristic=MOST_CONSTRAINED_VARIABLE, \n",
    "            value_heuristic=LEAST_CONSTRAINING_VALUE))\n",
    "    print('\\nHighest degree and least constraining value:', \n",
    "            backtrack(problem, variable_heuristic=HIGHEST_DEGREE_VARIABLE, \n",
    "            value_heuristic=LEAST_CONSTRAINING_VALUE))\n",
    "    print('\\nMinimum conflicts:', min_conflicts(problem))"
   ]
  }
 ],
 "metadata": {
  "jupytext": {
   "main_language": "python",
   "text_representation": {
    "extension": ".py",
    "format_name": "light"
   }
  }
 },
 "nbformat": 4,
 "nbformat_minor": 2
}
