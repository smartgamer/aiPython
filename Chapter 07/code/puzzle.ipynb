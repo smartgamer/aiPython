{
 "cells": [
  {
   "cell_type": "code",
   "execution_count": null,
   "metadata": {},
   "outputs": [],
   "source": [
    "from simpleai.search import astar, SearchProblem"
   ]
  },
  {
   "cell_type": "code",
   "execution_count": null,
   "metadata": {},
   "outputs": [],
   "source": [
    "# Class containing methods to solve the puzzle\n",
    "class PuzzleSolver(SearchProblem):\n",
    "    # Action method to get the list of the possible \n",
    "    # numbers that can be moved in to the empty space \n",
    "    def actions(self, cur_state):\n",
    "        rows = string_to_list(cur_state)\n",
    "        row_empty, col_empty = get_location(rows, 'e')\n",
    "\n",
    "        actions = []\n",
    "        if row_empty > 0:\n",
    "            actions.append(rows[row_empty - 1][col_empty])\n",
    "        if row_empty < 2:\n",
    "            actions.append(rows[row_empty + 1][col_empty])\n",
    "        if col_empty > 0:\n",
    "            actions.append(rows[row_empty][col_empty - 1])\n",
    "        if col_empty < 2:\n",
    "            actions.append(rows[row_empty][col_empty + 1])\n",
    "\n",
    "        return actions\n",
    "\n",
    "    # Return the resulting state after moving a piece to the empty space\n",
    "    def result(self, state, action):\n",
    "        rows = string_to_list(state)\n",
    "        row_empty, col_empty = get_location(rows, 'e')\n",
    "        row_new, col_new = get_location(rows, action)\n",
    "\n",
    "        rows[row_empty][col_empty], rows[row_new][col_new] = \\\n",
    "                rows[row_new][col_new], rows[row_empty][col_empty]\n",
    "\n",
    "        return list_to_string(rows)\n",
    "\n",
    "    # Returns true if a state is the goal state\n",
    "    def is_goal(self, state):\n",
    "        return state == GOAL\n",
    "\n",
    "    # Returns an estimate of the distance from a state to \n",
    "    # the goal using the manhattan distance\n",
    "    def heuristic(self, state):\n",
    "        rows = string_to_list(state)\n",
    "\n",
    "        distance = 0\n",
    "\n",
    "        for number in '12345678e':\n",
    "            row_new, col_new = get_location(rows, number)\n",
    "            row_new_goal, col_new_goal = goal_positions[number]\n",
    "\n",
    "            distance += abs(row_new - row_new_goal) + abs(col_new - col_new_goal)\n",
    "\n",
    "        return distance"
   ]
  },
  {
   "cell_type": "code",
   "execution_count": null,
   "metadata": {},
   "outputs": [],
   "source": [
    "# Convert list to string\n",
    "def list_to_string(input_list):\n",
    "    return '\\n'.join(['-'.join(x) for x in input_list])"
   ]
  },
  {
   "cell_type": "code",
   "execution_count": null,
   "metadata": {},
   "outputs": [],
   "source": [
    "# Convert string to list\n",
    "def string_to_list(input_string):\n",
    "    return [x.split('-') for x in input_string.split('\\n')]"
   ]
  },
  {
   "cell_type": "code",
   "execution_count": null,
   "metadata": {},
   "outputs": [],
   "source": [
    "# Find the 2D location of the input element \n",
    "def get_location(rows, input_element):\n",
    "    for i, row in enumerate(rows):\n",
    "        for j, item in enumerate(row):\n",
    "            if item == input_element:\n",
    "                return i, j  "
   ]
  },
  {
   "cell_type": "code",
   "execution_count": null,
   "metadata": {},
   "outputs": [],
   "source": [
    "# Final result that we want to achieve\n",
    "GOAL = '''1-2-3\n",
    "4-5-6\n",
    "7-8-e'''"
   ]
  },
  {
   "cell_type": "code",
   "execution_count": null,
   "metadata": {},
   "outputs": [],
   "source": [
    "# Starting point\n",
    "INITIAL = '''1-e-2\n",
    "6-3-4\n",
    "7-5-8'''"
   ]
  },
  {
   "cell_type": "code",
   "execution_count": null,
   "metadata": {},
   "outputs": [],
   "source": [
    "# Create a cache for the goal position of each piece\n",
    "goal_positions = {}\n",
    "rows_goal = string_to_list(GOAL)\n",
    "for number in '12345678e':\n",
    "    goal_positions[number] = get_location(rows_goal, number)"
   ]
  },
  {
   "cell_type": "code",
   "execution_count": null,
   "metadata": {},
   "outputs": [],
   "source": [
    "# Create the solver object\n",
    "result = astar(PuzzleSolver(INITIAL))"
   ]
  },
  {
   "cell_type": "code",
   "execution_count": null,
   "metadata": {
    "lines_to_next_cell": 2
   },
   "outputs": [],
   "source": [
    "# Print the results\n",
    "for i, (action, state) in enumerate(result.path()):\n",
    "    print()\n",
    "    if action == None:\n",
    "        print('Initial configuration')\n",
    "    elif i == len(result.path()) - 1:\n",
    "        print('After moving', action, 'into the empty space. Goal achieved!')\n",
    "    else:\n",
    "        print('After moving', action, 'into the empty space')\n",
    "\n",
    "    print(state)"
   ]
  }
 ],
 "metadata": {
  "jupytext": {
   "main_language": "python",
   "text_representation": {
    "extension": ".py",
    "format_name": "light"
   }
  }
 },
 "nbformat": 4,
 "nbformat_minor": 2
}
