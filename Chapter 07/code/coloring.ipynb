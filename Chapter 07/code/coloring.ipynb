{
 "cells": [
  {
   "cell_type": "code",
   "execution_count": null,
   "metadata": {},
   "outputs": [],
   "source": [
    "from simpleai.search import CspProblem, backtrack"
   ]
  },
  {
   "cell_type": "code",
   "execution_count": null,
   "metadata": {},
   "outputs": [],
   "source": [
    "# Define the function that imposes the constraint \n",
    "# that neighbors should be different\n",
    "def constraint_func(names, values):\n",
    "    return values[0] != values[1]  "
   ]
  },
  {
   "cell_type": "code",
   "execution_count": null,
   "metadata": {
    "lines_to_next_cell": 2
   },
   "outputs": [],
   "source": [
    "if __name__=='__main__':\n",
    "    # Specify the variables\n",
    "    names = ('Mark', 'Julia', 'Steve', 'Amanda', 'Brian', \n",
    "            'Joanne', 'Derek', 'Allan', 'Michelle', 'Kelly')\n",
    "\n",
    "    # Define the possible colors \n",
    "    colors = dict((name, ['red', 'green', 'blue', 'gray']) for name in names)\n",
    "\n",
    "    # Define the constraints \n",
    "    constraints = [\n",
    "        (('Mark', 'Julia'), constraint_func),\n",
    "        (('Mark', 'Steve'), constraint_func),\n",
    "        (('Julia', 'Steve'), constraint_func),\n",
    "        (('Julia', 'Amanda'), constraint_func),\n",
    "        (('Julia', 'Derek'), constraint_func),\n",
    "        (('Julia', 'Brian'), constraint_func),\n",
    "        (('Steve', 'Amanda'), constraint_func),\n",
    "        (('Steve', 'Allan'), constraint_func),\n",
    "        (('Steve', 'Michelle'), constraint_func),\n",
    "        (('Amanda', 'Michelle'), constraint_func),\n",
    "        (('Amanda', 'Joanne'), constraint_func),\n",
    "        (('Amanda', 'Derek'), constraint_func),\n",
    "        (('Brian', 'Derek'), constraint_func),\n",
    "        (('Brian', 'Kelly'), constraint_func),\n",
    "        (('Joanne', 'Michelle'), constraint_func),\n",
    "        (('Joanne', 'Amanda'), constraint_func),\n",
    "        (('Joanne', 'Derek'), constraint_func),\n",
    "        (('Joanne', 'Kelly'), constraint_func),\n",
    "        (('Derek', 'Kelly'), constraint_func),\n",
    "    ]\n",
    "\n",
    "    # Solve the problem\n",
    "    problem = CspProblem(names, colors, constraints)\n",
    "\n",
    "    # Print the solution\n",
    "    output = backtrack(problem)\n",
    "    print('\\nColor mapping:\\n')\n",
    "    for k, v in output.items():\n",
    "        print(k, '==>', v)"
   ]
  }
 ],
 "metadata": {
  "jupytext": {
   "main_language": "python",
   "text_representation": {
    "extension": ".py",
    "format_name": "light"
   }
  }
 },
 "nbformat": 4,
 "nbformat_minor": 2
}
