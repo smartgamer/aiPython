{
 "cells": [
  {
   "cell_type": "code",
   "execution_count": null,
   "metadata": {},
   "outputs": [],
   "source": [
    "import argparse\n",
    "import simpleai.search as ss "
   ]
  },
  {
   "cell_type": "code",
   "execution_count": null,
   "metadata": {},
   "outputs": [],
   "source": [
    "def build_arg_parser():\n",
    "    parser = argparse.ArgumentParser(description='Creates the input string \\\n",
    "            using the greedy algorithm')\n",
    "    parser.add_argument(\"--input-string\", dest=\"input_string\", required=True,\n",
    "            help=\"Input string\")\n",
    "    parser.add_argument(\"--initial-state\", dest=\"initial_state\", required=False,\n",
    "            default='', help=\"Starting point for the search\")\n",
    "    return parser"
   ]
  },
  {
   "cell_type": "code",
   "execution_count": null,
   "metadata": {},
   "outputs": [],
   "source": [
    "class CustomProblem(ss.SearchProblem):\n",
    "    def set_target(self, target_string):\n",
    "        self.target_string = target_string\n",
    "\n",
    "    # Check the current state and take the right action\n",
    "    def actions(self, cur_state):\n",
    "        if len(cur_state) < len(self.target_string):\n",
    "            alphabets = 'abcdefghijklmnopqrstuvwxyz'\n",
    "            return list(alphabets + ' ' + alphabets.upper())\n",
    "        else:\n",
    "            return []\n",
    "\n",
    "    # Concatenate state and action to get the result\n",
    "    def result(self, cur_state, action):\n",
    "        return cur_state + action\n",
    "\n",
    "    # Check if goal has been achieved\n",
    "    def is_goal(self, cur_state):\n",
    "        return cur_state == self.target_string\n",
    "\n",
    "    # Define the heuristic that will be used\n",
    "    def heuristic(self, cur_state):\n",
    "        # Compare current string with target string \n",
    "        dist = sum([1 if cur_state[i] != self.target_string[i] else 0\n",
    "                    for i in range(len(cur_state))])\n",
    "\n",
    "        # Difference between the lengths\n",
    "        diff = len(self.target_string) - len(cur_state)\n",
    "\n",
    "        return dist + diff "
   ]
  },
  {
   "cell_type": "code",
   "execution_count": null,
   "metadata": {},
   "outputs": [],
   "source": [
    "if __name__=='__main__':\n",
    "    args = build_arg_parser().parse_args()\n",
    "\n",
    "    # Initialize the object\n",
    "    problem = CustomProblem()\n",
    "\n",
    "    # Set target string and initial state\n",
    "    problem.set_target(args.input_string)\n",
    "    problem.initial_state = args.initial_state\n",
    "\n",
    "    # Solve the problem\n",
    "    output = ss.greedy(problem)\n",
    "\n",
    "    print('\\nTarget string:', args.input_string)\n",
    "    print('\\nPath to the solution:')\n",
    "    for item in output.path():\n",
    "        print(item)"
   ]
  }
 ],
 "metadata": {
  "jupytext": {
   "main_language": "python",
   "text_representation": {
    "extension": ".py",
    "format_name": "light"
   }
  }
 },
 "nbformat": 4,
 "nbformat_minor": 2
}
