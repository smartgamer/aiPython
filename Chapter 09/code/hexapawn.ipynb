{
 "cells": [
  {
   "cell_type": "markdown",
   "metadata": {},
   "source": [
    "This is a variant of the Hexapawn recipe given in the easyAI library"
   ]
  },
  {
   "cell_type": "code",
   "execution_count": null,
   "metadata": {},
   "outputs": [],
   "source": [
    "from easyAI import TwoPlayersGame, AI_Player, \\\n",
    "        Human_Player, Negamax"
   ]
  },
  {
   "cell_type": "code",
   "execution_count": null,
   "metadata": {},
   "outputs": [],
   "source": [
    "class GameController(TwoPlayersGame):\n",
    "    def __init__(self, players, size = (4, 4)):\n",
    "        self.size = size\n",
    "        num_pawns, len_board = size\n",
    "        p = [[(i, j) for j in range(len_board)] \\\n",
    "                for i in [0, num_pawns - 1]]\n",
    "\n",
    "        for i, d, goal, pawns in [(0, 1, num_pawns - 1, \n",
    "                p[0]), (1, -1, 0, p[1])]:\n",
    "            players[i].direction = d\n",
    "            players[i].goal_line = goal\n",
    "            players[i].pawns = pawns\n",
    "\n",
    "        # Define the players\n",
    "        self.players = players\n",
    "\n",
    "        # Define who starts first\n",
    "        self.nplayer = 1\n",
    "\n",
    "        # Define the alphabets\n",
    "        self.alphabets = 'ABCDEFGHIJ'\n",
    "\n",
    "        # Convert B4 to (1, 3)\n",
    "        self.to_tuple = lambda s: (self.alphabets.index(s[0]), \n",
    "                int(s[1:]) - 1)\n",
    "\n",
    "        # Convert (1, 3) to B4\n",
    "        self.to_string = lambda move: ' '.join([self.alphabets[\n",
    "                move[i][0]] + str(move[i][1] + 1)\n",
    "                for i in (0, 1)])\n",
    "\n",
    "    # Define the possible moves\n",
    "    def possible_moves(self):\n",
    "        moves = []\n",
    "        opponent_pawns = self.opponent.pawns\n",
    "        d = self.player.direction\n",
    "\n",
    "        for i, j in self.player.pawns:\n",
    "            if (i + d, j) not in opponent_pawns:\n",
    "                moves.append(((i, j), (i + d, j)))\n",
    "\n",
    "            if (i + d, j + 1) in opponent_pawns:\n",
    "                moves.append(((i, j), (i + d, j + 1)))\n",
    "\n",
    "            if (i + d, j - 1) in opponent_pawns:\n",
    "                moves.append(((i, j), (i + d, j - 1)))\n",
    "\n",
    "        return list(map(self.to_string, [(i, j) for i, j in moves]))\n",
    "\n",
    "    # Define how to make a move\n",
    "    def make_move(self, move):\n",
    "        move = list(map(self.to_tuple, move.split(' ')))\n",
    "        ind = self.player.pawns.index(move[0])\n",
    "        self.player.pawns[ind] = move[1]\n",
    "\n",
    "        if move[1] in self.opponent.pawns:\n",
    "            self.opponent.pawns.remove(move[1])\n",
    "\n",
    "    # Define what a loss looks like\n",
    "    def loss_condition(self):\n",
    "        return (any([i == self.opponent.goal_line\n",
    "                for i, j in self.opponent.pawns])\n",
    "                or (self.possible_moves() == []) )\n",
    "\n",
    "    # Check if the game is over\n",
    "    def is_over(self):\n",
    "        return self.loss_condition()\n",
    "\n",
    "    # Show the current status\n",
    "    def show(self):\n",
    "        f = lambda x: '1' if x in self.players[0].pawns else (\n",
    "                '2' if x in self.players[1].pawns else '.')\n",
    "\n",
    "        print(\"\\n\".join([\" \".join([f((i, j))\n",
    "                for j in range(self.size[1])])\n",
    "                for i in range(self.size[0])]))"
   ]
  },
  {
   "cell_type": "code",
   "execution_count": null,
   "metadata": {
    "lines_to_next_cell": 2
   },
   "outputs": [],
   "source": [
    "if __name__=='__main__':\n",
    "    # Compute the score\n",
    "    scoring = lambda game: -100 if game.loss_condition() else 0\n",
    "\n",
    "    # Define the algorithm\n",
    "    algorithm = Negamax(12, scoring)\n",
    "\n",
    "    # Start the game\n",
    "    game = GameController([AI_Player(algorithm), \n",
    "            AI_Player(algorithm)])\n",
    "    game.play()\n",
    "    print('\\nPlayer', game.nopponent, 'wins after', game.nmove , 'turns')"
   ]
  }
 ],
 "metadata": {
  "jupytext": {
   "main_language": "python",
   "text_representation": {
    "extension": ".py",
    "format_name": "light"
   }
  }
 },
 "nbformat": 4,
 "nbformat_minor": 2
}
