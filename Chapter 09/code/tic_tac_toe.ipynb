{
 "cells": [
  {
   "cell_type": "markdown",
   "metadata": {},
   "source": [
    "This is a variant of the Tic Tac Toe recipe given in the easyAI library"
   ]
  },
  {
   "cell_type": "code",
   "execution_count": null,
   "metadata": {},
   "outputs": [],
   "source": [
    "from easyAI import TwoPlayersGame, AI_Player, Negamax\n",
    "from easyAI.Player import Human_Player"
   ]
  },
  {
   "cell_type": "code",
   "execution_count": null,
   "metadata": {},
   "outputs": [],
   "source": [
    "class GameController(TwoPlayersGame):\n",
    "    def __init__(self, players):\n",
    "        # Define the players\n",
    "        self.players = players\n",
    "\n",
    "        # Define who starts the game\n",
    "        self.nplayer = 1 \n",
    "\n",
    "        # Define the board\n",
    "        self.board = [0] * 9\n",
    "    \n",
    "    # Define possible moves\n",
    "    def possible_moves(self):\n",
    "        return [a + 1 for a, b in enumerate(self.board) if b == 0]\n",
    "    \n",
    "    # Make a move\n",
    "    def make_move(self, move):\n",
    "        self.board[int(move) - 1] = self.nplayer\n",
    "\n",
    "    # Does the opponent have three in a line?\n",
    "    def loss_condition(self):\n",
    "        possible_combinations = [[1,2,3], [4,5,6], [7,8,9],\n",
    "            [1,4,7], [2,5,8], [3,6,9], [1,5,9], [3,5,7]]\n",
    "\n",
    "        return any([all([(self.board[i-1] == self.nopponent)\n",
    "                for i in combination]) for combination in possible_combinations]) \n",
    "        \n",
    "    # Check if the game is over\n",
    "    def is_over(self):\n",
    "        return (self.possible_moves() == []) or self.loss_condition()\n",
    "        \n",
    "    # Show current position\n",
    "    def show(self):\n",
    "        print('\\n'+'\\n'.join([' '.join([['.', 'O', 'X'][self.board[3*j + i]]\n",
    "                for i in range(3)]) for j in range(3)]))\n",
    "                 \n",
    "    # Compute the score\n",
    "    def scoring(self):\n",
    "        return -100 if self.loss_condition() else 0"
   ]
  },
  {
   "cell_type": "code",
   "execution_count": null,
   "metadata": {
    "lines_to_next_cell": 2
   },
   "outputs": [],
   "source": [
    "if __name__ == \"__main__\":\n",
    "    # Define the algorithm\n",
    "    algorithm = Negamax(7)\n",
    "\n",
    "    # Start the game\n",
    "    GameController([Human_Player(), AI_Player(algorithm)]).play()"
   ]
  }
 ],
 "metadata": {
  "jupytext": {
   "main_language": "python",
   "text_representation": {
    "extension": ".py",
    "format_name": "light"
   }
  }
 },
 "nbformat": 4,
 "nbformat_minor": 2
}
