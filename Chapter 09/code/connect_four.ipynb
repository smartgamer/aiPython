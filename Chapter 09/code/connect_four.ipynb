{
 "cells": [
  {
   "cell_type": "markdown",
   "metadata": {},
   "source": [
    "This is a variant of the Connect Four recipe given in the easyAI library"
   ]
  },
  {
   "cell_type": "code",
   "execution_count": null,
   "metadata": {},
   "outputs": [],
   "source": [
    "import numpy as np\n",
    "from easyAI import TwoPlayersGame, Human_Player, AI_Player, \\\n",
    "        Negamax, SSS"
   ]
  },
  {
   "cell_type": "code",
   "execution_count": null,
   "metadata": {},
   "outputs": [],
   "source": [
    "class GameController(TwoPlayersGame):\n",
    "    def __init__(self, players, board = None):\n",
    "        # Define the players\n",
    "        self.players = players\n",
    "\n",
    "        # Define the configuration of the board\n",
    "        self.board = board if (board != None) else (\n",
    "            np.array([[0 for i in range(7)] for j in range(6)]))\n",
    "\n",
    "        # Define who starts the game\n",
    "        self.nplayer = 1\n",
    "\n",
    "        # Define the positions\n",
    "        self.pos_dir = np.array([[[i, 0], [0, 1]] for i in range(6)] +\n",
    "                   [[[0, i], [1, 0]] for i in range(7)] +\n",
    "                   [[[i, 0], [1, 1]] for i in range(1, 3)] +\n",
    "                   [[[0, i], [1, 1]] for i in range(4)] +\n",
    "                   [[[i, 6], [1, -1]] for i in range(1, 3)] +\n",
    "                   [[[0, i], [1, -1]] for i in range(3, 7)])\n",
    "\n",
    "    # Define possible moves\n",
    "    def possible_moves(self):\n",
    "        return [i for i in range(7) if (self.board[:, i].min() == 0)]\n",
    "\n",
    "    # Define how to make the move\n",
    "    def make_move(self, column):\n",
    "        line = np.argmin(self.board[:, column] != 0)\n",
    "        self.board[line, column] = self.nplayer\n",
    "\n",
    "    # Show the current status\n",
    "    def show(self):\n",
    "        print('\\n' + '\\n'.join(\n",
    "                ['0 1 2 3 4 5 6', 13 * '-'] +\n",
    "                [' '.join([['.', 'O', 'X'][self.board[5 - j][i]]\n",
    "                for i in range(7)]) for j in range(6)]))\n",
    "\n",
    "    # Define what a loss_condition looks like \n",
    "    def loss_condition(self):\n",
    "        for pos, direction in self.pos_dir:\n",
    "            streak = 0\n",
    "            while (0 <= pos[0] <= 5) and (0 <= pos[1] <= 6):\n",
    "                if self.board[pos[0], pos[1]] == self.nopponent:\n",
    "                    streak += 1\n",
    "                    if streak == 4:\n",
    "                        return True\n",
    "                else:\n",
    "                    streak = 0\n",
    "\n",
    "                pos = pos + direction\n",
    "\n",
    "        return False\n",
    "\n",
    "    # Check if the game is over\n",
    "    def is_over(self):\n",
    "        return (self.board.min() > 0) or self.loss_condition()\n",
    "\n",
    "    # Compute the score\n",
    "    def scoring(self):\n",
    "        return -100 if self.loss_condition() else 0"
   ]
  },
  {
   "cell_type": "code",
   "execution_count": null,
   "metadata": {
    "lines_to_next_cell": 2
   },
   "outputs": [],
   "source": [
    "if __name__ == '__main__':\n",
    "    # Define the algorithms that will be used\n",
    "    algo_neg = Negamax(5)\n",
    "    algo_sss = SSS(5)\n",
    "\n",
    "    # Start the game\n",
    "    game = GameController([AI_Player(algo_neg), AI_Player(algo_sss)])\n",
    "    game.play()\n",
    "\n",
    "    # Print the result\n",
    "    if game.loss_condition():\n",
    "        print('\\nPlayer', game.nopponent, 'wins.')\n",
    "    else:\n",
    "        print(\"\\nIt's a draw.\")"
   ]
  }
 ],
 "metadata": {
  "jupytext": {
   "main_language": "python",
   "text_representation": {
    "extension": ".py",
    "format_name": "light"
   }
  }
 },
 "nbformat": 4,
 "nbformat_minor": 2
}
