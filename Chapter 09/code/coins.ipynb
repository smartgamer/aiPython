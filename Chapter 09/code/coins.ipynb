{
 "cells": [
  {
   "cell_type": "markdown",
   "metadata": {},
   "source": [
    "This is a variant of the Game of Bones recipe given in the easyAI library"
   ]
  },
  {
   "cell_type": "code",
   "execution_count": null,
   "metadata": {},
   "outputs": [],
   "source": [
    "from easyAI import TwoPlayersGame, id_solve, Human_Player, AI_Player\n",
    "from easyAI.AI import TT"
   ]
  },
  {
   "cell_type": "code",
   "execution_count": null,
   "metadata": {},
   "outputs": [],
   "source": [
    "class LastCoinStanding(TwoPlayersGame):\n",
    "    def __init__(self, players):\n",
    "        # Define the players. Necessary parameter.\n",
    "        self.players = players\n",
    "\n",
    "        # Define who starts the game. Necessary parameter.\n",
    "        self.nplayer = 1 \n",
    "\n",
    "        # Overall number of coins in the pile \n",
    "        self.num_coins = 25\n",
    "\n",
    "        # Define max number of coins per move \n",
    "        self.max_coins = 4 \n",
    "\n",
    "    # Define possible moves\n",
    "    def possible_moves(self): \n",
    "        return [str(x) for x in range(1, self.max_coins + 1)]\n",
    "    \n",
    "    # Remove coins\n",
    "    def make_move(self, move): \n",
    "        self.num_coins -= int(move) \n",
    "\n",
    "    # Did the opponent take the last coin?\n",
    "    def win(self): \n",
    "        return self.num_coins <= 0 \n",
    "\n",
    "    # Stop the game when somebody wins \n",
    "    def is_over(self): \n",
    "        return self.win() \n",
    "\n",
    "    # Compute score\n",
    "    def scoring(self): \n",
    "        return 100 if self.win() else 0\n",
    "\n",
    "    # Show number of coins remaining in the pile\n",
    "    def show(self): \n",
    "        print(self.num_coins, 'coins left in the pile')"
   ]
  },
  {
   "cell_type": "code",
   "execution_count": null,
   "metadata": {
    "lines_to_next_cell": 2
   },
   "outputs": [],
   "source": [
    "if __name__ == \"__main__\":\n",
    "    # Define the transposition table\n",
    "    tt = TT()\n",
    "\n",
    "    # Define the method\n",
    "    LastCoinStanding.ttentry = lambda self: self.num_coins\n",
    "\n",
    "    # Solve the game\n",
    "    result, depth, move = id_solve(LastCoinStanding, \n",
    "            range(2, 20), win_score=100, tt=tt)\n",
    "    print(result, depth, move)  \n",
    "\n",
    "    # Start the game \n",
    "    game = LastCoinStanding([AI_Player(tt), Human_Player()])\n",
    "    game.play() "
   ]
  }
 ],
 "metadata": {
  "jupytext": {
   "main_language": "python",
   "text_representation": {
    "extension": ".py",
    "format_name": "light"
   }
  }
 },
 "nbformat": 4,
 "nbformat_minor": 2
}
