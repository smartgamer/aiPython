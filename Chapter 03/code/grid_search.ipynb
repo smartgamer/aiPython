{
 "cells": [
  {
   "cell_type": "code",
   "execution_count": null,
   "metadata": {},
   "outputs": [],
   "source": [
    "import numpy as np\n",
    "import matplotlib.pyplot as plt\n",
    "from sklearn.metrics import classification_report\n",
    "from sklearn import cross_validation, grid_search\n",
    "from sklearn.ensemble import ExtraTreesClassifier\n",
    "from sklearn import cross_validation\n",
    "from sklearn.metrics import classification_report"
   ]
  },
  {
   "cell_type": "code",
   "execution_count": null,
   "metadata": {},
   "outputs": [],
   "source": [
    "from utilities import visualize_classifier"
   ]
  },
  {
   "cell_type": "code",
   "execution_count": null,
   "metadata": {},
   "outputs": [],
   "source": [
    "# Load input data\n",
    "input_file = 'data_random_forests.txt'\n",
    "data = np.loadtxt(input_file, delimiter=',')\n",
    "X, y = data[:, :-1], data[:, -1]"
   ]
  },
  {
   "cell_type": "code",
   "execution_count": null,
   "metadata": {},
   "outputs": [],
   "source": [
    "# Separate input data into three classes based on labels\n",
    "class_0 = np.array(X[y==0])\n",
    "class_1 = np.array(X[y==1])\n",
    "class_2 = np.array(X[y==2])"
   ]
  },
  {
   "cell_type": "code",
   "execution_count": null,
   "metadata": {},
   "outputs": [],
   "source": [
    "# Split the data into training and testing datasets \n",
    "X_train, X_test, y_train, y_test = cross_validation.train_test_split(\n",
    "        X, y, test_size=0.25, random_state=5)"
   ]
  },
  {
   "cell_type": "code",
   "execution_count": null,
   "metadata": {},
   "outputs": [],
   "source": [
    "# Define the parameter grid \n",
    "parameter_grid = [ {'n_estimators': [100], 'max_depth': [2, 4, 7, 12, 16]},\n",
    "                   {'max_depth': [4], 'n_estimators': [25, 50, 100, 250]}\n",
    "                 ]"
   ]
  },
  {
   "cell_type": "code",
   "execution_count": null,
   "metadata": {},
   "outputs": [],
   "source": [
    "metrics = ['precision_weighted', 'recall_weighted']"
   ]
  },
  {
   "cell_type": "code",
   "execution_count": null,
   "metadata": {
    "lines_to_next_cell": 2
   },
   "outputs": [],
   "source": [
    "for metric in metrics:\n",
    "    print(\"\\n##### Searching optimal parameters for\", metric)\n",
    "\n",
    "    classifier = grid_search.GridSearchCV(\n",
    "            ExtraTreesClassifier(random_state=0), \n",
    "            parameter_grid, cv=5, scoring=metric)\n",
    "    classifier.fit(X_train, y_train)\n",
    "\n",
    "    print(\"\\nGrid scores for the parameter grid:\")\n",
    "    for params, avg_score, _ in classifier.grid_scores_:\n",
    "        print(params, '-->', round(avg_score, 3))\n",
    "\n",
    "    print(\"\\nBest parameters:\", classifier.best_params_)\n",
    "\n",
    "    y_pred = classifier.predict(X_test)\n",
    "    print(\"\\nPerformance report:\\n\")\n",
    "    print(classification_report(y_test, y_pred))"
   ]
  }
 ],
 "metadata": {
  "jupytext": {
   "main_language": "python",
   "text_representation": {
    "extension": ".py",
    "format_name": "light"
   }
  }
 },
 "nbformat": 4,
 "nbformat_minor": 2
}
